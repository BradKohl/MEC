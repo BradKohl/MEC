{
 "cells": [
  {
   "cell_type": "code",
   "execution_count": 1,
   "id": "100e2c34-8d79-41ed-a742-1e0fc13d85b4",
   "metadata": {},
   "outputs": [],
   "source": [
    "# pip install scrapy\n"
   ]
  },
  {
   "cell_type": "code",
   "execution_count": null,
   "id": "c46cc967-37f5-4204-9e40-338fdc7c3781",
   "metadata": {},
   "outputs": [],
   "source": []
  },
  {
   "cell_type": "code",
   "execution_count": null,
   "id": "07817328-93a6-4abc-8d60-461ddcd217a7",
   "metadata": {},
   "outputs": [],
   "source": []
  },
  {
   "cell_type": "code",
   "execution_count": 3,
   "id": "6454864a-de37-4298-97f5-8a2b6c02aab6",
   "metadata": {},
   "outputs": [],
   "source": [
    "from pyspark import SparkContext\n"
   ]
  },
  {
   "cell_type": "code",
   "execution_count": 2,
   "id": "555d5c96-83a4-4478-b44a-7c020696345b",
   "metadata": {},
   "outputs": [
    {
     "name": "stdout",
     "output_type": "stream",
     "text": [
      "Collecting pyspark\n",
      "  Downloading pyspark-3.3.0.tar.gz (281.3 MB)\n",
      "\u001b[K     |████████████████████████████████| 281.3 MB 119 kB/s  eta 0:00:01  |                                | 450 kB 2.2 MB/s eta 0:02:08     |██▌                             | 22.0 MB 17.3 MB/s eta 0:00:15     |██▊                             | 24.2 MB 17.3 MB/s eta 0:00:15     |████▎                           | 37.9 MB 5.5 MB/s eta 0:00:44     |█████                           | 43.6 MB 7.3 MB/s eta 0:00:33     |██████▏                         | 54.4 MB 7.3 MB/s eta 0:00:31     |██████▊                         | 58.8 MB 7.9 MB/s eta 0:00:29     |████████▏                       | 71.8 MB 14.8 MB/s eta 0:00:15     |█████████▏                      | 80.3 MB 6.1 MB/s eta 0:00:34     |█████████▎                      | 81.2 MB 6.1 MB/s eta 0:00:34█████                   | 113.9 MB 7.6 MB/s eta 0:00:23     |█████████████                   | 115.3 MB 7.6 MB/s eta 0:00:22     |█████████████▎                  | 116.8 MB 7.6 MB/s eta 0:00:22     |█████████████▍                  | 117.3 MB 7.6 MB/s eta 0:00:22     |██████████████▏                 | 124.5 MB 7.6 MB/s eta 0:00:21     |████████████████                | 140.7 MB 9.6 MB/s eta 0:00:15     |█████████████████████▊          | 191.1 MB 678 kB/s eta 0:02:13     |██████████████████████▉         | 201.1 MB 4.8 MB/s eta 0:00:17     |███████████████████████▏        | 203.7 MB 4.8 MB/s eta 0:00:17     |█████████████████████████▉      | 226.7 MB 794 kB/s eta 0:01:09     |██████████████████████████▊     | 235.0 MB 13.9 MB/s eta 0:00:04     |█████████████████████████████   | 255.7 MB 20.1 MB/s eta 0:00:02     |██████████████████████████████▍ | 267.3 MB 20.1 MB/s eta 0:00:01     |██████████████████████████████▋ | 269.1 MB 20.1 MB/s eta 0:00:01     |███████████████████████████████▎| 274.5 MB 14.9 MB/s eta 0:00:01\n",
      "\u001b[?25hCollecting py4j==0.10.9.5\n",
      "  Downloading py4j-0.10.9.5-py2.py3-none-any.whl (199 kB)\n",
      "\u001b[K     |████████████████████████████████| 199 kB 9.0 MB/s eta 0:00:01\n",
      "\u001b[?25hBuilding wheels for collected packages: pyspark\n",
      "  Building wheel for pyspark (setup.py) ... \u001b[?25ldone\n",
      "\u001b[?25h  Created wheel for pyspark: filename=pyspark-3.3.0-py2.py3-none-any.whl size=281764026 sha256=49427c820e188e57d9c6345a388379a2ba8148116a79566ceaaafa9ce96e6bf2\n",
      "  Stored in directory: /Users/bradkohl/Library/Caches/pip/wheels/7a/8e/1b/f73a52650d2e5f337708d9f6a1750d451a7349a867f928b885\n",
      "Successfully built pyspark\n",
      "Installing collected packages: py4j, pyspark\n",
      "Successfully installed py4j-0.10.9.5 pyspark-3.3.0\n",
      "Note: you may need to restart the kernel to use updated packages.\n"
     ]
    }
   ],
   "source": [
    "# pip install pyspark\n"
   ]
  },
  {
   "cell_type": "code",
   "execution_count": 4,
   "id": "e885162b-a4db-4eb0-9ed4-dade9ef77f2f",
   "metadata": {},
   "outputs": [],
   "source": [
    "from pyspark.sql import *"
   ]
  },
  {
   "cell_type": "code",
   "execution_count": 5,
   "id": "852f1baa-7db3-4df7-8aad-4d5a091ee17e",
   "metadata": {},
   "outputs": [],
   "source": [
    "from pyspark.sql.types import *\n",
    "from datetime import date\n",
    "from datetime import datetime\n",
    "from dateutil.parser import parse\n",
    "%matplotlib inline"
   ]
  },
  {
   "cell_type": "code",
   "execution_count": 4,
   "id": "8feec53f-0d14-4a38-a0a8-0091ea3eeba0",
   "metadata": {},
   "outputs": [],
   "source": [
    "# type(sc)"
   ]
  },
  {
   "cell_type": "code",
   "execution_count": null,
   "id": "55c4b14a-c4d3-434c-aa48-1915e29af9a5",
   "metadata": {},
   "outputs": [],
   "source": []
  },
  {
   "cell_type": "code",
   "execution_count": 2,
   "id": "95b994b5-7dac-47a5-87c7-6ce03fdd4d09",
   "metadata": {},
   "outputs": [],
   "source": [
    "# sc = SparkContext('local', 'test2')"
   ]
  },
  {
   "cell_type": "code",
   "execution_count": null,
   "id": "80cc72d4-29d0-456b-b17c-dd98477e74bf",
   "metadata": {},
   "outputs": [],
   "source": []
  }
 ],
 "metadata": {
  "kernelspec": {
   "display_name": "Python (MEC Mini-Projects)",
   "language": "python",
   "name": "mec-miniprojects"
  },
  "language_info": {
   "codemirror_mode": {
    "name": "ipython",
    "version": 3
   },
   "file_extension": ".py",
   "mimetype": "text/x-python",
   "name": "python",
   "nbconvert_exporter": "python",
   "pygments_lexer": "ipython3",
   "version": "3.7.13"
  }
 },
 "nbformat": 4,
 "nbformat_minor": 5
}
