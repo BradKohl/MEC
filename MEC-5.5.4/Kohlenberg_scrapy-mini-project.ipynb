{
 "cells": [
  {
   "cell_type": "code",
   "execution_count": 1,
   "id": "100e2c34-8d79-41ed-a742-1e0fc13d85b4",
   "metadata": {},
   "outputs": [],
   "source": [
    "# pip install scrapy\n"
   ]
  },
  {
   "cell_type": "code",
   "execution_count": 2,
   "id": "6454864a-de37-4298-97f5-8a2b6c02aab6",
   "metadata": {},
   "outputs": [
    {
     "ename": "SyntaxError",
     "evalue": "invalid syntax (<ipython-input-2-fa536b07be1e>, line 1)",
     "output_type": "error",
     "traceback": [
      "\u001b[0;36m  File \u001b[0;32m\"<ipython-input-2-fa536b07be1e>\"\u001b[0;36m, line \u001b[0;32m1\u001b[0m\n\u001b[0;31m    scrapy startproject scrapy-mini-project\u001b[0m\n\u001b[0m                      ^\u001b[0m\n\u001b[0;31mSyntaxError\u001b[0m\u001b[0;31m:\u001b[0m invalid syntax\n"
     ]
    }
   ],
   "source": [
    "scrapy startproject scrapy-mini-project"
   ]
  },
  {
   "cell_type": "code",
   "execution_count": null,
   "id": "882dccc5-4c34-48ee-aae0-dc9cd1a506e0",
   "metadata": {},
   "outputs": [],
   "source": [
    "site = \"http://quotes.toscrape.com/\""
   ]
  },
  {
   "cell_type": "code",
   "execution_count": null,
   "id": "af2e9452-27cc-4f7e-8791-f78513623b9e",
   "metadata": {},
   "outputs": [],
   "source": []
  }
 ],
 "metadata": {
  "kernelspec": {
   "display_name": "Python (MEC Mini-Projects)",
   "language": "python",
   "name": "mec-miniprojects"
  },
  "language_info": {
   "codemirror_mode": {
    "name": "ipython",
    "version": 3
   },
   "file_extension": ".py",
   "mimetype": "text/x-python",
   "name": "python",
   "nbconvert_exporter": "python",
   "pygments_lexer": "ipython3",
   "version": "3.7.13"
  }
 },
 "nbformat": 4,
 "nbformat_minor": 5
}
