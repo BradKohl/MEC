{
 "cells": [
  {
   "cell_type": "markdown",
   "metadata": {},
   "source": [
    "# Mini-Project: Data Wrangling and Transformation with Pandas\n",
    "\n",
    "Working with tabular data is a necessity for anyone with enterprises having a majority of their data in relational databases and flat files. This mini-project is adopted from the excellent tutorial on pandas by Brandon Rhodes which you have watched earlier in the Data Wrangling Unit. In this mini-project, we will be looking at some interesting data based on movie data from the IMDB.\n",
    "\n",
    "This assignment should help you reinforce the concepts you learnt in the curriculum for Data Wrangling and sharpen your skills in using Pandas. Good Luck!"
   ]
  },
  {
   "cell_type": "markdown",
   "metadata": {},
   "source": [
    "### Please make sure you have one of the more recent versions of Pandas"
   ]
  },
  {
   "cell_type": "code",
   "execution_count": 1,
   "metadata": {},
   "outputs": [],
   "source": [
    "import pandas as pd\n",
    "import matplotlib.pyplot as plt\n",
    "\n",
    "%matplotlib inline"
   ]
  },
  {
   "cell_type": "code",
   "execution_count": 2,
   "metadata": {},
   "outputs": [
    {
     "data": {
      "text/plain": [
       "'1.3.4'"
      ]
     },
     "execution_count": 2,
     "metadata": {},
     "output_type": "execute_result"
    }
   ],
   "source": [
    "pd.__version__"
   ]
  },
  {
   "cell_type": "markdown",
   "metadata": {},
   "source": [
    "## Taking a look at the Movies dataset\n",
    "This data shows the movies based on their title and the year of release"
   ]
  },
  {
   "cell_type": "code",
   "execution_count": 13,
   "metadata": {},
   "outputs": [
    {
     "name": "stdout",
     "output_type": "stream",
     "text": [
      "<class 'pandas.core.frame.DataFrame'>\n",
      "RangeIndex: 244914 entries, 0 to 244913\n",
      "Data columns (total 2 columns):\n",
      " #   Column  Non-Null Count   Dtype \n",
      "---  ------  --------------   ----- \n",
      " 0   title   244914 non-null  object\n",
      " 1   year    244914 non-null  int64 \n",
      "dtypes: int64(1), object(1)\n",
      "memory usage: 3.7+ MB\n"
     ]
    }
   ],
   "source": [
    "movies = pd.read_csv('titles.csv')\n",
    "movies.info()"
   ]
  },
  {
   "cell_type": "code",
   "execution_count": 14,
   "metadata": {},
   "outputs": [
    {
     "data": {
      "text/html": [
       "<div>\n",
       "<style scoped>\n",
       "    .dataframe tbody tr th:only-of-type {\n",
       "        vertical-align: middle;\n",
       "    }\n",
       "\n",
       "    .dataframe tbody tr th {\n",
       "        vertical-align: top;\n",
       "    }\n",
       "\n",
       "    .dataframe thead th {\n",
       "        text-align: right;\n",
       "    }\n",
       "</style>\n",
       "<table border=\"1\" class=\"dataframe\">\n",
       "  <thead>\n",
       "    <tr style=\"text-align: right;\">\n",
       "      <th></th>\n",
       "      <th>title</th>\n",
       "      <th>year</th>\n",
       "    </tr>\n",
       "  </thead>\n",
       "  <tbody>\n",
       "    <tr>\n",
       "      <th>0</th>\n",
       "      <td>The Ticket to the Life</td>\n",
       "      <td>2009</td>\n",
       "    </tr>\n",
       "    <tr>\n",
       "      <th>1</th>\n",
       "      <td>Parallel Worlds: A New Rock Music Experience</td>\n",
       "      <td>2016</td>\n",
       "    </tr>\n",
       "    <tr>\n",
       "      <th>2</th>\n",
       "      <td>Morita - La hija de Jesus</td>\n",
       "      <td>2008</td>\n",
       "    </tr>\n",
       "    <tr>\n",
       "      <th>3</th>\n",
       "      <td>Gun</td>\n",
       "      <td>2017</td>\n",
       "    </tr>\n",
       "    <tr>\n",
       "      <th>4</th>\n",
       "      <td>Love or Nothing at All</td>\n",
       "      <td>2014</td>\n",
       "    </tr>\n",
       "  </tbody>\n",
       "</table>\n",
       "</div>"
      ],
      "text/plain": [
       "                                          title  year\n",
       "0                        The Ticket to the Life  2009\n",
       "1  Parallel Worlds: A New Rock Music Experience  2016\n",
       "2                     Morita - La hija de Jesus  2008\n",
       "3                                           Gun  2017\n",
       "4                        Love or Nothing at All  2014"
      ]
     },
     "execution_count": 14,
     "metadata": {},
     "output_type": "execute_result"
    }
   ],
   "source": [
    "movies.head()"
   ]
  },
  {
   "cell_type": "markdown",
   "metadata": {},
   "source": [
    "## Taking a look at the Cast dataset\n",
    "\n",
    "This data shows the cast (actors, actresses, supporting roles) for each movie\n",
    "\n",
    "- The attribute `n` basically tells the importance of the cast role, lower the number, more important the role.\n",
    "- Supporting cast usually don't have any value for `n`"
   ]
  },
  {
   "cell_type": "code",
   "execution_count": 15,
   "metadata": {},
   "outputs": [
    {
     "name": "stdout",
     "output_type": "stream",
     "text": [
      "<class 'pandas.core.frame.DataFrame'>\n",
      "RangeIndex: 3786176 entries, 0 to 3786175\n",
      "Data columns (total 6 columns):\n",
      " #   Column     Dtype  \n",
      "---  ------     -----  \n",
      " 0   title      object \n",
      " 1   year       int64  \n",
      " 2   name       object \n",
      " 3   type       object \n",
      " 4   character  object \n",
      " 5   n          float64\n",
      "dtypes: float64(1), int64(1), object(4)\n",
      "memory usage: 173.3+ MB\n"
     ]
    }
   ],
   "source": [
    "cast = pd.read_csv('cast.csv.zip')\n",
    "cast.info()"
   ]
  },
  {
   "cell_type": "code",
   "execution_count": 16,
   "metadata": {},
   "outputs": [
    {
     "data": {
      "text/html": [
       "<div>\n",
       "<style scoped>\n",
       "    .dataframe tbody tr th:only-of-type {\n",
       "        vertical-align: middle;\n",
       "    }\n",
       "\n",
       "    .dataframe tbody tr th {\n",
       "        vertical-align: top;\n",
       "    }\n",
       "\n",
       "    .dataframe thead th {\n",
       "        text-align: right;\n",
       "    }\n",
       "</style>\n",
       "<table border=\"1\" class=\"dataframe\">\n",
       "  <thead>\n",
       "    <tr style=\"text-align: right;\">\n",
       "      <th></th>\n",
       "      <th>title</th>\n",
       "      <th>year</th>\n",
       "      <th>name</th>\n",
       "      <th>type</th>\n",
       "      <th>character</th>\n",
       "      <th>n</th>\n",
       "    </tr>\n",
       "  </thead>\n",
       "  <tbody>\n",
       "    <tr>\n",
       "      <th>0</th>\n",
       "      <td>Closet Monster</td>\n",
       "      <td>2015</td>\n",
       "      <td>Buffy #1</td>\n",
       "      <td>actor</td>\n",
       "      <td>Buffy 4</td>\n",
       "      <td>31.0</td>\n",
       "    </tr>\n",
       "    <tr>\n",
       "      <th>1</th>\n",
       "      <td>Suuri illusioni</td>\n",
       "      <td>1985</td>\n",
       "      <td>Homo $</td>\n",
       "      <td>actor</td>\n",
       "      <td>Guests</td>\n",
       "      <td>22.0</td>\n",
       "    </tr>\n",
       "    <tr>\n",
       "      <th>2</th>\n",
       "      <td>Battle of the Sexes</td>\n",
       "      <td>2017</td>\n",
       "      <td>$hutter</td>\n",
       "      <td>actor</td>\n",
       "      <td>Bobby Riggs Fan</td>\n",
       "      <td>10.0</td>\n",
       "    </tr>\n",
       "    <tr>\n",
       "      <th>3</th>\n",
       "      <td>Secret in Their Eyes</td>\n",
       "      <td>2015</td>\n",
       "      <td>$hutter</td>\n",
       "      <td>actor</td>\n",
       "      <td>2002 Dodger Fan</td>\n",
       "      <td>NaN</td>\n",
       "    </tr>\n",
       "    <tr>\n",
       "      <th>4</th>\n",
       "      <td>Steve Jobs</td>\n",
       "      <td>2015</td>\n",
       "      <td>$hutter</td>\n",
       "      <td>actor</td>\n",
       "      <td>1988 Opera House Patron</td>\n",
       "      <td>NaN</td>\n",
       "    </tr>\n",
       "    <tr>\n",
       "      <th>5</th>\n",
       "      <td>Straight Outta Compton</td>\n",
       "      <td>2015</td>\n",
       "      <td>$hutter</td>\n",
       "      <td>actor</td>\n",
       "      <td>Club Patron</td>\n",
       "      <td>NaN</td>\n",
       "    </tr>\n",
       "    <tr>\n",
       "      <th>6</th>\n",
       "      <td>Straight Outta Compton</td>\n",
       "      <td>2015</td>\n",
       "      <td>$hutter</td>\n",
       "      <td>actor</td>\n",
       "      <td>Dopeman</td>\n",
       "      <td>NaN</td>\n",
       "    </tr>\n",
       "    <tr>\n",
       "      <th>7</th>\n",
       "      <td>For Thy Love 2</td>\n",
       "      <td>2009</td>\n",
       "      <td>Bee Moe $lim</td>\n",
       "      <td>actor</td>\n",
       "      <td>Thug 1</td>\n",
       "      <td>NaN</td>\n",
       "    </tr>\n",
       "    <tr>\n",
       "      <th>8</th>\n",
       "      <td>Lapis, Ballpen at Diploma, a True to Life Journey</td>\n",
       "      <td>2014</td>\n",
       "      <td>Jori ' Danilo' Jurado Jr.</td>\n",
       "      <td>actor</td>\n",
       "      <td>Jaime (young)</td>\n",
       "      <td>9.0</td>\n",
       "    </tr>\n",
       "    <tr>\n",
       "      <th>9</th>\n",
       "      <td>Desire (III)</td>\n",
       "      <td>2014</td>\n",
       "      <td>Syaiful 'Ariffin</td>\n",
       "      <td>actor</td>\n",
       "      <td>Actor Playing Eteocles from 'Antigone'</td>\n",
       "      <td>NaN</td>\n",
       "    </tr>\n",
       "  </tbody>\n",
       "</table>\n",
       "</div>"
      ],
      "text/plain": [
       "                                               title  year  \\\n",
       "0                                     Closet Monster  2015   \n",
       "1                                    Suuri illusioni  1985   \n",
       "2                                Battle of the Sexes  2017   \n",
       "3                               Secret in Their Eyes  2015   \n",
       "4                                         Steve Jobs  2015   \n",
       "5                             Straight Outta Compton  2015   \n",
       "6                             Straight Outta Compton  2015   \n",
       "7                                     For Thy Love 2  2009   \n",
       "8  Lapis, Ballpen at Diploma, a True to Life Journey  2014   \n",
       "9                                       Desire (III)  2014   \n",
       "\n",
       "                        name   type                               character  \\\n",
       "0                   Buffy #1  actor                                 Buffy 4   \n",
       "1                     Homo $  actor                                  Guests   \n",
       "2                    $hutter  actor                         Bobby Riggs Fan   \n",
       "3                    $hutter  actor                         2002 Dodger Fan   \n",
       "4                    $hutter  actor                 1988 Opera House Patron   \n",
       "5                    $hutter  actor                             Club Patron   \n",
       "6                    $hutter  actor                                 Dopeman   \n",
       "7               Bee Moe $lim  actor                                  Thug 1   \n",
       "8  Jori ' Danilo' Jurado Jr.  actor                           Jaime (young)   \n",
       "9           Syaiful 'Ariffin  actor  Actor Playing Eteocles from 'Antigone'   \n",
       "\n",
       "      n  \n",
       "0  31.0  \n",
       "1  22.0  \n",
       "2  10.0  \n",
       "3   NaN  \n",
       "4   NaN  \n",
       "5   NaN  \n",
       "6   NaN  \n",
       "7   NaN  \n",
       "8   9.0  \n",
       "9   NaN  "
      ]
     },
     "execution_count": 16,
     "metadata": {},
     "output_type": "execute_result"
    }
   ],
   "source": [
    "cast.head(10)"
   ]
  },
  {
   "cell_type": "markdown",
   "metadata": {},
   "source": [
    "## Taking a look at the Release dataset\n",
    "\n",
    "This data shows details of when each movie was release in each country with the release date"
   ]
  },
  {
   "cell_type": "code",
   "execution_count": 17,
   "metadata": {},
   "outputs": [
    {
     "name": "stdout",
     "output_type": "stream",
     "text": [
      "<class 'pandas.core.frame.DataFrame'>\n",
      "RangeIndex: 479488 entries, 0 to 479487\n",
      "Data columns (total 4 columns):\n",
      " #   Column   Non-Null Count   Dtype         \n",
      "---  ------   --------------   -----         \n",
      " 0   title    479488 non-null  object        \n",
      " 1   year     479488 non-null  int64         \n",
      " 2   country  479488 non-null  object        \n",
      " 3   date     479488 non-null  datetime64[ns]\n",
      "dtypes: datetime64[ns](1), int64(1), object(2)\n",
      "memory usage: 14.6+ MB\n"
     ]
    }
   ],
   "source": [
    "release_dates = pd.read_csv('release_dates.csv', parse_dates=['date'], infer_datetime_format=True)\n",
    "release_dates.info()"
   ]
  },
  {
   "cell_type": "code",
   "execution_count": 18,
   "metadata": {},
   "outputs": [
    {
     "data": {
      "text/html": [
       "<div>\n",
       "<style scoped>\n",
       "    .dataframe tbody tr th:only-of-type {\n",
       "        vertical-align: middle;\n",
       "    }\n",
       "\n",
       "    .dataframe tbody tr th {\n",
       "        vertical-align: top;\n",
       "    }\n",
       "\n",
       "    .dataframe thead th {\n",
       "        text-align: right;\n",
       "    }\n",
       "</style>\n",
       "<table border=\"1\" class=\"dataframe\">\n",
       "  <thead>\n",
       "    <tr style=\"text-align: right;\">\n",
       "      <th></th>\n",
       "      <th>title</th>\n",
       "      <th>year</th>\n",
       "      <th>country</th>\n",
       "      <th>date</th>\n",
       "    </tr>\n",
       "  </thead>\n",
       "  <tbody>\n",
       "    <tr>\n",
       "      <th>0</th>\n",
       "      <td>#73, Shaanthi Nivaasa</td>\n",
       "      <td>2007</td>\n",
       "      <td>India</td>\n",
       "      <td>2007-06-15</td>\n",
       "    </tr>\n",
       "    <tr>\n",
       "      <th>1</th>\n",
       "      <td>#BKKY</td>\n",
       "      <td>2016</td>\n",
       "      <td>Cambodia</td>\n",
       "      <td>2017-10-12</td>\n",
       "    </tr>\n",
       "    <tr>\n",
       "      <th>2</th>\n",
       "      <td>#Beings</td>\n",
       "      <td>2015</td>\n",
       "      <td>Romania</td>\n",
       "      <td>2015-01-29</td>\n",
       "    </tr>\n",
       "    <tr>\n",
       "      <th>3</th>\n",
       "      <td>#Captured</td>\n",
       "      <td>2017</td>\n",
       "      <td>USA</td>\n",
       "      <td>2017-09-05</td>\n",
       "    </tr>\n",
       "    <tr>\n",
       "      <th>4</th>\n",
       "      <td>#Ewankosau saranghaeyo</td>\n",
       "      <td>2015</td>\n",
       "      <td>Philippines</td>\n",
       "      <td>2015-01-21</td>\n",
       "    </tr>\n",
       "  </tbody>\n",
       "</table>\n",
       "</div>"
      ],
      "text/plain": [
       "                    title  year      country       date\n",
       "0   #73, Shaanthi Nivaasa  2007        India 2007-06-15\n",
       "1                   #BKKY  2016     Cambodia 2017-10-12\n",
       "2                 #Beings  2015      Romania 2015-01-29\n",
       "3               #Captured  2017          USA 2017-09-05\n",
       "4  #Ewankosau saranghaeyo  2015  Philippines 2015-01-21"
      ]
     },
     "execution_count": 18,
     "metadata": {},
     "output_type": "execute_result"
    }
   ],
   "source": [
    "release_dates.head()"
   ]
  },
  {
   "cell_type": "markdown",
   "metadata": {},
   "source": [
    "# Section I - Basic Querying, Filtering and Transformations"
   ]
  },
  {
   "cell_type": "markdown",
   "metadata": {},
   "source": [
    "### What is the total number of movies?"
   ]
  },
  {
   "cell_type": "code",
   "execution_count": 19,
   "metadata": {},
   "outputs": [
    {
     "data": {
      "text/plain": [
       "244914"
      ]
     },
     "execution_count": 19,
     "metadata": {},
     "output_type": "execute_result"
    }
   ],
   "source": [
    "len(movies)"
   ]
  },
  {
   "cell_type": "markdown",
   "metadata": {},
   "source": [
    "### List all Batman movies ever made"
   ]
  },
  {
   "cell_type": "code",
   "execution_count": 10,
   "metadata": {},
   "outputs": [
    {
     "name": "stdout",
     "output_type": "stream",
     "text": [
      "Total Batman Movies: 2\n"
     ]
    },
    {
     "data": {
      "text/html": [
       "<div>\n",
       "<style scoped>\n",
       "    .dataframe tbody tr th:only-of-type {\n",
       "        vertical-align: middle;\n",
       "    }\n",
       "\n",
       "    .dataframe tbody tr th {\n",
       "        vertical-align: top;\n",
       "    }\n",
       "\n",
       "    .dataframe thead th {\n",
       "        text-align: right;\n",
       "    }\n",
       "</style>\n",
       "<table border=\"1\" class=\"dataframe\">\n",
       "  <thead>\n",
       "    <tr style=\"text-align: right;\">\n",
       "      <th></th>\n",
       "      <th>title</th>\n",
       "      <th>year</th>\n",
       "    </tr>\n",
       "  </thead>\n",
       "  <tbody>\n",
       "    <tr>\n",
       "      <th>52734</th>\n",
       "      <td>Batman</td>\n",
       "      <td>1943</td>\n",
       "    </tr>\n",
       "    <tr>\n",
       "      <th>150621</th>\n",
       "      <td>Batman</td>\n",
       "      <td>1989</td>\n",
       "    </tr>\n",
       "  </tbody>\n",
       "</table>\n",
       "</div>"
      ],
      "text/plain": [
       "         title  year\n",
       "52734   Batman  1943\n",
       "150621  Batman  1989"
      ]
     },
     "execution_count": 10,
     "metadata": {},
     "output_type": "execute_result"
    }
   ],
   "source": [
    "batman_df = movies[movies.title == 'Batman']\n",
    "print('Total Batman Movies:', len(batman_df))\n",
    "batman_df"
   ]
  },
  {
   "cell_type": "markdown",
   "metadata": {},
   "source": [
    "### List all Batman movies ever made - the right approach"
   ]
  },
  {
   "cell_type": "code",
   "execution_count": 20,
   "metadata": {},
   "outputs": [
    {
     "name": "stdout",
     "output_type": "stream",
     "text": [
      "Total Batman Movies: 35\n"
     ]
    },
    {
     "data": {
      "text/html": [
       "<div>\n",
       "<style scoped>\n",
       "    .dataframe tbody tr th:only-of-type {\n",
       "        vertical-align: middle;\n",
       "    }\n",
       "\n",
       "    .dataframe tbody tr th {\n",
       "        vertical-align: top;\n",
       "    }\n",
       "\n",
       "    .dataframe thead th {\n",
       "        text-align: right;\n",
       "    }\n",
       "</style>\n",
       "<table border=\"1\" class=\"dataframe\">\n",
       "  <thead>\n",
       "    <tr style=\"text-align: right;\">\n",
       "      <th></th>\n",
       "      <th>title</th>\n",
       "      <th>year</th>\n",
       "    </tr>\n",
       "  </thead>\n",
       "  <tbody>\n",
       "    <tr>\n",
       "      <th>16813</th>\n",
       "      <td>Batman: Anarchy</td>\n",
       "      <td>2016</td>\n",
       "    </tr>\n",
       "    <tr>\n",
       "      <th>30236</th>\n",
       "      <td>Batman Forever</td>\n",
       "      <td>1995</td>\n",
       "    </tr>\n",
       "    <tr>\n",
       "      <th>31674</th>\n",
       "      <td>Batman Untold</td>\n",
       "      <td>2010</td>\n",
       "    </tr>\n",
       "    <tr>\n",
       "      <th>31711</th>\n",
       "      <td>Scooby-Doo &amp; Batman: the Brave and the Bold</td>\n",
       "      <td>2018</td>\n",
       "    </tr>\n",
       "    <tr>\n",
       "      <th>41881</th>\n",
       "      <td>Batman the Rise of Red Hood</td>\n",
       "      <td>2018</td>\n",
       "    </tr>\n",
       "    <tr>\n",
       "      <th>43484</th>\n",
       "      <td>Batman: Return of the Caped Crusaders</td>\n",
       "      <td>2016</td>\n",
       "    </tr>\n",
       "    <tr>\n",
       "      <th>46333</th>\n",
       "      <td>Batman &amp; Robin</td>\n",
       "      <td>1997</td>\n",
       "    </tr>\n",
       "    <tr>\n",
       "      <th>51811</th>\n",
       "      <td>Batman Revealed</td>\n",
       "      <td>2012</td>\n",
       "    </tr>\n",
       "    <tr>\n",
       "      <th>52734</th>\n",
       "      <td>Batman</td>\n",
       "      <td>1943</td>\n",
       "    </tr>\n",
       "    <tr>\n",
       "      <th>56029</th>\n",
       "      <td>Batman Beyond: Rising Knight</td>\n",
       "      <td>2014</td>\n",
       "    </tr>\n",
       "  </tbody>\n",
       "</table>\n",
       "</div>"
      ],
      "text/plain": [
       "                                             title  year\n",
       "16813                              Batman: Anarchy  2016\n",
       "30236                               Batman Forever  1995\n",
       "31674                                Batman Untold  2010\n",
       "31711  Scooby-Doo & Batman: the Brave and the Bold  2018\n",
       "41881                  Batman the Rise of Red Hood  2018\n",
       "43484        Batman: Return of the Caped Crusaders  2016\n",
       "46333                               Batman & Robin  1997\n",
       "51811                              Batman Revealed  2012\n",
       "52734                                       Batman  1943\n",
       "56029                 Batman Beyond: Rising Knight  2014"
      ]
     },
     "execution_count": 20,
     "metadata": {},
     "output_type": "execute_result"
    }
   ],
   "source": [
    "batman_df = movies[movies.title.str.contains('Batman', case=False)]\n",
    "print('Total Batman Movies:', len(batman_df))\n",
    "batman_df.head(10)"
   ]
  },
  {
   "cell_type": "markdown",
   "metadata": {},
   "source": [
    "### Display the top 15 Batman movies in the order they were released"
   ]
  },
  {
   "cell_type": "code",
   "execution_count": 23,
   "metadata": {},
   "outputs": [
    {
     "data": {
      "text/html": [
       "<div>\n",
       "<style scoped>\n",
       "    .dataframe tbody tr th:only-of-type {\n",
       "        vertical-align: middle;\n",
       "    }\n",
       "\n",
       "    .dataframe tbody tr th {\n",
       "        vertical-align: top;\n",
       "    }\n",
       "\n",
       "    .dataframe thead th {\n",
       "        text-align: right;\n",
       "    }\n",
       "</style>\n",
       "<table border=\"1\" class=\"dataframe\">\n",
       "  <thead>\n",
       "    <tr style=\"text-align: right;\">\n",
       "      <th></th>\n",
       "      <th>title</th>\n",
       "      <th>year</th>\n",
       "    </tr>\n",
       "  </thead>\n",
       "  <tbody>\n",
       "    <tr>\n",
       "      <th>52734</th>\n",
       "      <td>Batman</td>\n",
       "      <td>1943</td>\n",
       "    </tr>\n",
       "    <tr>\n",
       "      <th>100056</th>\n",
       "      <td>Batman and Robin</td>\n",
       "      <td>1949</td>\n",
       "    </tr>\n",
       "    <tr>\n",
       "      <th>161439</th>\n",
       "      <td>Batman Dracula</td>\n",
       "      <td>1964</td>\n",
       "    </tr>\n",
       "    <tr>\n",
       "      <th>84327</th>\n",
       "      <td>Alyas Batman at Robin</td>\n",
       "      <td>1965</td>\n",
       "    </tr>\n",
       "    <tr>\n",
       "      <th>68364</th>\n",
       "      <td>James Batman</td>\n",
       "      <td>1966</td>\n",
       "    </tr>\n",
       "    <tr>\n",
       "      <th>161527</th>\n",
       "      <td>Batman: The Movie</td>\n",
       "      <td>1966</td>\n",
       "    </tr>\n",
       "    <tr>\n",
       "      <th>56159</th>\n",
       "      <td>Batman Fights Dracula</td>\n",
       "      <td>1967</td>\n",
       "    </tr>\n",
       "    <tr>\n",
       "      <th>168504</th>\n",
       "      <td>Fight! Batman, Fight!</td>\n",
       "      <td>1973</td>\n",
       "    </tr>\n",
       "    <tr>\n",
       "      <th>150621</th>\n",
       "      <td>Batman</td>\n",
       "      <td>1989</td>\n",
       "    </tr>\n",
       "    <tr>\n",
       "      <th>156239</th>\n",
       "      <td>Alyas Batman en Robin</td>\n",
       "      <td>1991</td>\n",
       "    </tr>\n",
       "    <tr>\n",
       "      <th>156755</th>\n",
       "      <td>Batman Returns</td>\n",
       "      <td>1992</td>\n",
       "    </tr>\n",
       "    <tr>\n",
       "      <th>63366</th>\n",
       "      <td>Batman: Mask of the Phantasm</td>\n",
       "      <td>1993</td>\n",
       "    </tr>\n",
       "    <tr>\n",
       "      <th>30236</th>\n",
       "      <td>Batman Forever</td>\n",
       "      <td>1995</td>\n",
       "    </tr>\n",
       "    <tr>\n",
       "      <th>46333</th>\n",
       "      <td>Batman &amp; Robin</td>\n",
       "      <td>1997</td>\n",
       "    </tr>\n",
       "    <tr>\n",
       "      <th>208220</th>\n",
       "      <td>Batman Begins</td>\n",
       "      <td>2005</td>\n",
       "    </tr>\n",
       "  </tbody>\n",
       "</table>\n",
       "</div>"
      ],
      "text/plain": [
       "                               title  year\n",
       "52734                         Batman  1943\n",
       "100056              Batman and Robin  1949\n",
       "161439                Batman Dracula  1964\n",
       "84327          Alyas Batman at Robin  1965\n",
       "68364                   James Batman  1966\n",
       "161527             Batman: The Movie  1966\n",
       "56159          Batman Fights Dracula  1967\n",
       "168504         Fight! Batman, Fight!  1973\n",
       "150621                        Batman  1989\n",
       "156239         Alyas Batman en Robin  1991\n",
       "156755                Batman Returns  1992\n",
       "63366   Batman: Mask of the Phantasm  1993\n",
       "30236                 Batman Forever  1995\n",
       "46333                 Batman & Robin  1997\n",
       "208220                 Batman Begins  2005"
      ]
     },
     "execution_count": 23,
     "metadata": {},
     "output_type": "execute_result"
    }
   ],
   "source": [
    "batman_df.sort_values(by=['year'], ascending=True).iloc[:15]"
   ]
  },
  {
   "cell_type": "markdown",
   "metadata": {},
   "source": [
    "### Section I - Q1 : List all the 'Harry Potter' movies from the most recent to the earliest"
   ]
  },
  {
   "cell_type": "code",
   "execution_count": 28,
   "metadata": {},
   "outputs": [
    {
     "name": "stdout",
     "output_type": "stream",
     "text": [
      "Total Harry Potter Movies:                                                title  year\n",
      "223087         Harry Potter and the Sorcerer's Stone  2001\n",
      "82791        Harry Potter and the Chamber of Secrets  2002\n",
      "61957       Harry Potter and the Prisoner of Azkaban  2004\n",
      "187926           Harry Potter and the Goblet of Fire  2005\n",
      "50581      Harry Potter and the Order of the Phoenix  2007\n",
      "109213        Harry Potter and the Half-Blood Prince  2009\n",
      "152831  Harry Potter and the Deathly Hallows: Part 1  2010\n",
      "143147  Harry Potter and the Deathly Hallows: Part 2  2011\n"
     ]
    }
   ],
   "source": [
    "hp_df = movies[movies.title.str.contains('Harry Potter', case=False)]\n",
    "hp_df_sort = hp_df.sort_values(by='year', ascending=True)\n",
    "print('Total Harry Potter Movies:', hp_df_sort)"
   ]
  },
  {
   "cell_type": "markdown",
   "metadata": {},
   "source": [
    "### How many movies were made in the year 2017?"
   ]
  },
  {
   "cell_type": "code",
   "execution_count": 29,
   "metadata": {},
   "outputs": [
    {
     "data": {
      "text/plain": [
       "11474"
      ]
     },
     "execution_count": 29,
     "metadata": {},
     "output_type": "execute_result"
    }
   ],
   "source": [
    "len(movies[movies.year == 2017])"
   ]
  },
  {
   "cell_type": "markdown",
   "metadata": {},
   "source": [
    "### Section I - Q2 : How many movies were made in the year 2015?"
   ]
  },
  {
   "cell_type": "code",
   "execution_count": 30,
   "metadata": {},
   "outputs": [
    {
     "data": {
      "text/plain": [
       "8702"
      ]
     },
     "execution_count": 30,
     "metadata": {},
     "output_type": "execute_result"
    }
   ],
   "source": [
    "len(movies[movies.year == 2015])"
   ]
  },
  {
   "cell_type": "markdown",
   "metadata": {},
   "source": [
    "### Section I - Q3 : How many movies were made from 2000 till 2018?\n",
    "- You can chain multiple conditions using OR (`|`) as well as AND (`&`) depending on the condition"
   ]
  },
  {
   "cell_type": "code",
   "execution_count": 31,
   "metadata": {},
   "outputs": [
    {
     "data": {
      "text/plain": [
       "114070"
      ]
     },
     "execution_count": 31,
     "metadata": {},
     "output_type": "execute_result"
    }
   ],
   "source": [
    "len(movies[(movies['year'] >= 2000) & (movies['year'] <= 2018)]) "
   ]
  },
  {
   "cell_type": "markdown",
   "metadata": {},
   "source": [
    "### Section I - Q4: How many movies are titled \"Hamlet\"?"
   ]
  },
  {
   "cell_type": "code",
   "execution_count": 36,
   "metadata": {},
   "outputs": [
    {
     "data": {
      "text/plain": [
       "20"
      ]
     },
     "execution_count": 36,
     "metadata": {},
     "output_type": "execute_result"
    }
   ],
   "source": [
    "len(movies[movies['title'] == 'Hamlet'])"
   ]
  },
  {
   "cell_type": "markdown",
   "metadata": {},
   "source": [
    "### Section I - Q5: List all movies titled \"Hamlet\" \n",
    "- The movies should only have been released on or after the year 2000\n",
    "- Display the movies based on the year they were released (earliest to most recent)"
   ]
  },
  {
   "cell_type": "code",
   "execution_count": 45,
   "metadata": {},
   "outputs": [
    {
     "name": "stdout",
     "output_type": "stream",
     "text": [
      "         title  year\n",
      "181090  Hamlet  1910\n",
      "124506  Hamlet  1911\n",
      "118535  Hamlet  1913\n",
      "46344   Hamlet  1921\n",
      "73869   Hamlet  1948\n",
      "140203  Hamlet  1954\n",
      "155004  Hamlet  1964\n",
      "222156  Hamlet  1969\n",
      "218339  Hamlet  1973\n",
      "8214    Hamlet  1976\n",
      "180979  Hamlet  1987\n",
      "98326   Hamlet  1990\n",
      "241149  Hamlet  1996\n",
      "55639   Hamlet  2000\n",
      "1931    Hamlet  2009\n",
      "227953  Hamlet  2011\n",
      "178290  Hamlet  2014\n",
      "186137  Hamlet  2015\n",
      "191940  Hamlet  2016\n",
      "244747  Hamlet  2017\n"
     ]
    }
   ],
   "source": [
    "ham_movs = movies[movies['title'] == 'Hamlet']\n",
    "ham_movs_sort = ham_movs.sort_values(by='year')\n",
    "print(ham_movs_sort)"
   ]
  },
  {
   "cell_type": "markdown",
   "metadata": {},
   "source": [
    "### Section I - Q6: How many roles in the movie \"Inception\" are of the supporting cast (extra credits)\n",
    "- supporting cast are NOT ranked by an \"n\" value (NaN)\n",
    "- check for how to filter based on nulls"
   ]
  },
  {
   "cell_type": "code",
   "execution_count": 61,
   "metadata": {},
   "outputs": [
    {
     "data": {
      "text/html": [
       "<div>\n",
       "<style scoped>\n",
       "    .dataframe tbody tr th:only-of-type {\n",
       "        vertical-align: middle;\n",
       "    }\n",
       "\n",
       "    .dataframe tbody tr th {\n",
       "        vertical-align: top;\n",
       "    }\n",
       "\n",
       "    .dataframe thead th {\n",
       "        text-align: right;\n",
       "    }\n",
       "</style>\n",
       "<table border=\"1\" class=\"dataframe\">\n",
       "  <thead>\n",
       "    <tr style=\"text-align: right;\">\n",
       "      <th></th>\n",
       "      <th>title</th>\n",
       "      <th>year</th>\n",
       "      <th>name</th>\n",
       "      <th>type</th>\n",
       "      <th>character</th>\n",
       "      <th>n</th>\n",
       "    </tr>\n",
       "  </thead>\n",
       "  <tbody>\n",
       "    <tr>\n",
       "      <th>98153</th>\n",
       "      <td>Inception</td>\n",
       "      <td>2010</td>\n",
       "      <td>Michael (III) August</td>\n",
       "      <td>actor</td>\n",
       "      <td>LAX Passenger</td>\n",
       "      <td>NaN</td>\n",
       "    </tr>\n",
       "    <tr>\n",
       "      <th>197877</th>\n",
       "      <td>Inception</td>\n",
       "      <td>2010</td>\n",
       "      <td>Ken Bhan</td>\n",
       "      <td>actor</td>\n",
       "      <td>Mombasan Gambler</td>\n",
       "      <td>NaN</td>\n",
       "    </tr>\n",
       "    <tr>\n",
       "      <th>374661</th>\n",
       "      <td>Inception</td>\n",
       "      <td>2010</td>\n",
       "      <td>John Ceallach</td>\n",
       "      <td>actor</td>\n",
       "      <td>LAX Passenger</td>\n",
       "      <td>NaN</td>\n",
       "    </tr>\n",
       "    <tr>\n",
       "      <th>497161</th>\n",
       "      <td>Inception</td>\n",
       "      <td>2010</td>\n",
       "      <td>Garvin Cross</td>\n",
       "      <td>actor</td>\n",
       "      <td>Snow Commander</td>\n",
       "      <td>NaN</td>\n",
       "    </tr>\n",
       "    <tr>\n",
       "      <th>684098</th>\n",
       "      <td>Inception</td>\n",
       "      <td>2010</td>\n",
       "      <td>Seve Esposito</td>\n",
       "      <td>actor</td>\n",
       "      <td>Italian Gambler</td>\n",
       "      <td>NaN</td>\n",
       "    </tr>\n",
       "    <tr>\n",
       "      <th>690634</th>\n",
       "      <td>Inception</td>\n",
       "      <td>2010</td>\n",
       "      <td>Marcus (II) Everett</td>\n",
       "      <td>actor</td>\n",
       "      <td>Stock Broker</td>\n",
       "      <td>NaN</td>\n",
       "    </tr>\n",
       "    <tr>\n",
       "      <th>707642</th>\n",
       "      <td>Inception</td>\n",
       "      <td>2010</td>\n",
       "      <td>Zachary Christopher Fay</td>\n",
       "      <td>actor</td>\n",
       "      <td>Extra</td>\n",
       "      <td>NaN</td>\n",
       "    </tr>\n",
       "    <tr>\n",
       "      <th>836295</th>\n",
       "      <td>Inception</td>\n",
       "      <td>2010</td>\n",
       "      <td>Daniel Girondeaud</td>\n",
       "      <td>actor</td>\n",
       "      <td>Bridge Sub Con</td>\n",
       "      <td>NaN</td>\n",
       "    </tr>\n",
       "    <tr>\n",
       "      <th>1006636</th>\n",
       "      <td>Inception</td>\n",
       "      <td>2010</td>\n",
       "      <td>Andrew Hoagland</td>\n",
       "      <td>actor</td>\n",
       "      <td>Pedestrian</td>\n",
       "      <td>NaN</td>\n",
       "    </tr>\n",
       "    <tr>\n",
       "      <th>1095095</th>\n",
       "      <td>Inception</td>\n",
       "      <td>2010</td>\n",
       "      <td>Charles Jarrell</td>\n",
       "      <td>actor</td>\n",
       "      <td>Hotel Guest</td>\n",
       "      <td>NaN</td>\n",
       "    </tr>\n",
       "    <tr>\n",
       "      <th>1108755</th>\n",
       "      <td>Inception</td>\n",
       "      <td>2010</td>\n",
       "      <td>Seong-hwan Jo</td>\n",
       "      <td>actor</td>\n",
       "      <td>Japanese Landing Crew</td>\n",
       "      <td>NaN</td>\n",
       "    </tr>\n",
       "    <tr>\n",
       "      <th>1120184</th>\n",
       "      <td>Inception</td>\n",
       "      <td>2010</td>\n",
       "      <td>Alonzo F. Jones</td>\n",
       "      <td>actor</td>\n",
       "      <td>Mombasan Casino Staff</td>\n",
       "      <td>NaN</td>\n",
       "    </tr>\n",
       "    <tr>\n",
       "      <th>1189066</th>\n",
       "      <td>Inception</td>\n",
       "      <td>2010</td>\n",
       "      <td>Mobin Khan</td>\n",
       "      <td>actor</td>\n",
       "      <td>Mombasa Casino Cashier</td>\n",
       "      <td>NaN</td>\n",
       "    </tr>\n",
       "    <tr>\n",
       "      <th>1248176</th>\n",
       "      <td>Inception</td>\n",
       "      <td>2010</td>\n",
       "      <td>Shunsaku Kud?</td>\n",
       "      <td>actor</td>\n",
       "      <td>Saito's Bodyguard Officer</td>\n",
       "      <td>NaN</td>\n",
       "    </tr>\n",
       "    <tr>\n",
       "      <th>1296268</th>\n",
       "      <td>Inception</td>\n",
       "      <td>2010</td>\n",
       "      <td>John (IX) Lawson</td>\n",
       "      <td>actor</td>\n",
       "      <td>Street Person</td>\n",
       "      <td>NaN</td>\n",
       "    </tr>\n",
       "    <tr>\n",
       "      <th>1312335</th>\n",
       "      <td>Inception</td>\n",
       "      <td>2010</td>\n",
       "      <td>Jean-Christophe Leger</td>\n",
       "      <td>actor</td>\n",
       "      <td>French Student</td>\n",
       "      <td>NaN</td>\n",
       "    </tr>\n",
       "    <tr>\n",
       "      <th>1665939</th>\n",
       "      <td>Inception</td>\n",
       "      <td>2010</td>\n",
       "      <td>Fran?ois-Marie Nivon</td>\n",
       "      <td>actor</td>\n",
       "      <td>A Passer-By</td>\n",
       "      <td>NaN</td>\n",
       "    </tr>\n",
       "    <tr>\n",
       "      <th>1836655</th>\n",
       "      <td>Inception</td>\n",
       "      <td>2010</td>\n",
       "      <td>Scott Pretty</td>\n",
       "      <td>actor</td>\n",
       "      <td>Pedestrian</td>\n",
       "      <td>NaN</td>\n",
       "    </tr>\n",
       "    <tr>\n",
       "      <th>1921209</th>\n",
       "      <td>Inception</td>\n",
       "      <td>2010</td>\n",
       "      <td>Benjamin (II) Riley</td>\n",
       "      <td>actor</td>\n",
       "      <td>Bridge Sub Con</td>\n",
       "      <td>NaN</td>\n",
       "    </tr>\n",
       "    <tr>\n",
       "      <th>1999736</th>\n",
       "      <td>Inception</td>\n",
       "      <td>2010</td>\n",
       "      <td>Norman Saleet</td>\n",
       "      <td>actor</td>\n",
       "      <td>Airport Patron</td>\n",
       "      <td>NaN</td>\n",
       "    </tr>\n",
       "    <tr>\n",
       "      <th>2127670</th>\n",
       "      <td>Inception</td>\n",
       "      <td>2010</td>\n",
       "      <td>Colin (XXV) Smith</td>\n",
       "      <td>actor</td>\n",
       "      <td>Airport Patron</td>\n",
       "      <td>NaN</td>\n",
       "    </tr>\n",
       "    <tr>\n",
       "      <th>2238386</th>\n",
       "      <td>Inception</td>\n",
       "      <td>2010</td>\n",
       "      <td>Affan Tareen</td>\n",
       "      <td>actor</td>\n",
       "      <td>Denison</td>\n",
       "      <td>NaN</td>\n",
       "    </tr>\n",
       "    <tr>\n",
       "      <th>2796449</th>\n",
       "      <td>Inception</td>\n",
       "      <td>2010</td>\n",
       "      <td>Youlanda Davis</td>\n",
       "      <td>actress</td>\n",
       "      <td>Mombasan Cashier</td>\n",
       "      <td>NaN</td>\n",
       "    </tr>\n",
       "    <tr>\n",
       "      <th>2852164</th>\n",
       "      <td>Inception</td>\n",
       "      <td>2010</td>\n",
       "      <td>Julie Eagleton</td>\n",
       "      <td>actress</td>\n",
       "      <td>Stockbroker</td>\n",
       "      <td>NaN</td>\n",
       "    </tr>\n",
       "    <tr>\n",
       "      <th>2950644</th>\n",
       "      <td>Inception</td>\n",
       "      <td>2010</td>\n",
       "      <td>Natalie Goldwin</td>\n",
       "      <td>actress</td>\n",
       "      <td>LAX Passenger</td>\n",
       "      <td>NaN</td>\n",
       "    </tr>\n",
       "    <tr>\n",
       "      <th>3054447</th>\n",
       "      <td>Inception</td>\n",
       "      <td>2010</td>\n",
       "      <td>Marguerite Insolia</td>\n",
       "      <td>actress</td>\n",
       "      <td>Reporter</td>\n",
       "      <td>NaN</td>\n",
       "    </tr>\n",
       "    <tr>\n",
       "      <th>3149397</th>\n",
       "      <td>Inception</td>\n",
       "      <td>2010</td>\n",
       "      <td>Leticia LaBelle</td>\n",
       "      <td>actress</td>\n",
       "      <td>Airport Patron</td>\n",
       "      <td>NaN</td>\n",
       "    </tr>\n",
       "  </tbody>\n",
       "</table>\n",
       "</div>"
      ],
      "text/plain": [
       "             title  year                     name     type  \\\n",
       "98153    Inception  2010     Michael (III) August    actor   \n",
       "197877   Inception  2010                 Ken Bhan    actor   \n",
       "374661   Inception  2010            John Ceallach    actor   \n",
       "497161   Inception  2010             Garvin Cross    actor   \n",
       "684098   Inception  2010            Seve Esposito    actor   \n",
       "690634   Inception  2010      Marcus (II) Everett    actor   \n",
       "707642   Inception  2010  Zachary Christopher Fay    actor   \n",
       "836295   Inception  2010        Daniel Girondeaud    actor   \n",
       "1006636  Inception  2010          Andrew Hoagland    actor   \n",
       "1095095  Inception  2010          Charles Jarrell    actor   \n",
       "1108755  Inception  2010            Seong-hwan Jo    actor   \n",
       "1120184  Inception  2010          Alonzo F. Jones    actor   \n",
       "1189066  Inception  2010               Mobin Khan    actor   \n",
       "1248176  Inception  2010            Shunsaku Kud?    actor   \n",
       "1296268  Inception  2010         John (IX) Lawson    actor   \n",
       "1312335  Inception  2010    Jean-Christophe Leger    actor   \n",
       "1665939  Inception  2010     Fran?ois-Marie Nivon    actor   \n",
       "1836655  Inception  2010             Scott Pretty    actor   \n",
       "1921209  Inception  2010      Benjamin (II) Riley    actor   \n",
       "1999736  Inception  2010            Norman Saleet    actor   \n",
       "2127670  Inception  2010        Colin (XXV) Smith    actor   \n",
       "2238386  Inception  2010             Affan Tareen    actor   \n",
       "2796449  Inception  2010           Youlanda Davis  actress   \n",
       "2852164  Inception  2010           Julie Eagleton  actress   \n",
       "2950644  Inception  2010          Natalie Goldwin  actress   \n",
       "3054447  Inception  2010       Marguerite Insolia  actress   \n",
       "3149397  Inception  2010          Leticia LaBelle  actress   \n",
       "\n",
       "                         character   n  \n",
       "98153                LAX Passenger NaN  \n",
       "197877            Mombasan Gambler NaN  \n",
       "374661               LAX Passenger NaN  \n",
       "497161              Snow Commander NaN  \n",
       "684098             Italian Gambler NaN  \n",
       "690634                Stock Broker NaN  \n",
       "707642                       Extra NaN  \n",
       "836295              Bridge Sub Con NaN  \n",
       "1006636                 Pedestrian NaN  \n",
       "1095095                Hotel Guest NaN  \n",
       "1108755      Japanese Landing Crew NaN  \n",
       "1120184      Mombasan Casino Staff NaN  \n",
       "1189066     Mombasa Casino Cashier NaN  \n",
       "1248176  Saito's Bodyguard Officer NaN  \n",
       "1296268              Street Person NaN  \n",
       "1312335             French Student NaN  \n",
       "1665939                A Passer-By NaN  \n",
       "1836655                 Pedestrian NaN  \n",
       "1921209             Bridge Sub Con NaN  \n",
       "1999736             Airport Patron NaN  \n",
       "2127670             Airport Patron NaN  \n",
       "2238386                    Denison NaN  \n",
       "2796449           Mombasan Cashier NaN  \n",
       "2852164                Stockbroker NaN  \n",
       "2950644              LAX Passenger NaN  \n",
       "3054447                   Reporter NaN  \n",
       "3149397             Airport Patron NaN  "
      ]
     },
     "execution_count": 61,
     "metadata": {},
     "output_type": "execute_result"
    }
   ],
   "source": [
    "cast[(cast['title'] == 'Inception') & (cast['n'].isnull())]\n"
   ]
  },
  {
   "cell_type": "markdown",
   "metadata": {},
   "source": [
    "### Section I - Q7: How many roles in the movie \"Inception\" are of the main cast\n",
    "- main cast always have an 'n' value"
   ]
  },
  {
   "cell_type": "code",
   "execution_count": 65,
   "metadata": {},
   "outputs": [
    {
     "data": {
      "text/html": [
       "<div>\n",
       "<style scoped>\n",
       "    .dataframe tbody tr th:only-of-type {\n",
       "        vertical-align: middle;\n",
       "    }\n",
       "\n",
       "    .dataframe tbody tr th {\n",
       "        vertical-align: top;\n",
       "    }\n",
       "\n",
       "    .dataframe thead th {\n",
       "        text-align: right;\n",
       "    }\n",
       "</style>\n",
       "<table border=\"1\" class=\"dataframe\">\n",
       "  <thead>\n",
       "    <tr style=\"text-align: right;\">\n",
       "      <th></th>\n",
       "      <th>title</th>\n",
       "      <th>year</th>\n",
       "      <th>name</th>\n",
       "      <th>type</th>\n",
       "      <th>character</th>\n",
       "      <th>n</th>\n",
       "    </tr>\n",
       "  </thead>\n",
       "  <tbody>\n",
       "    <tr>\n",
       "      <th>149008</th>\n",
       "      <td>Inception</td>\n",
       "      <td>2010</td>\n",
       "      <td>Peter Basham</td>\n",
       "      <td>actor</td>\n",
       "      <td>Fischer's Jet Captain</td>\n",
       "      <td>44.0</td>\n",
       "    </tr>\n",
       "    <tr>\n",
       "      <th>183937</th>\n",
       "      <td>Inception</td>\n",
       "      <td>2010</td>\n",
       "      <td>Tom Berenger</td>\n",
       "      <td>actor</td>\n",
       "      <td>Browning</td>\n",
       "      <td>8.0</td>\n",
       "    </tr>\n",
       "    <tr>\n",
       "      <th>260128</th>\n",
       "      <td>Inception</td>\n",
       "      <td>2010</td>\n",
       "      <td>Virgile Bramly</td>\n",
       "      <td>actor</td>\n",
       "      <td>Bridge Sub Con</td>\n",
       "      <td>29.0</td>\n",
       "    </tr>\n",
       "    <tr>\n",
       "      <th>326745</th>\n",
       "      <td>Inception</td>\n",
       "      <td>2010</td>\n",
       "      <td>Michael Caine</td>\n",
       "      <td>actor</td>\n",
       "      <td>Miles</td>\n",
       "      <td>11.0</td>\n",
       "    </tr>\n",
       "    <tr>\n",
       "      <th>333415</th>\n",
       "      <td>Inception</td>\n",
       "      <td>2010</td>\n",
       "      <td>Earl Cameron</td>\n",
       "      <td>actor</td>\n",
       "      <td>Elderly Bald Man</td>\n",
       "      <td>20.0</td>\n",
       "    </tr>\n",
       "    <tr>\n",
       "      <th>433867</th>\n",
       "      <td>Inception</td>\n",
       "      <td>2010</td>\n",
       "      <td>Nicolas Clerc</td>\n",
       "      <td>actor</td>\n",
       "      <td>Bridge Sub Con</td>\n",
       "      <td>26.0</td>\n",
       "    </tr>\n",
       "    <tr>\n",
       "      <th>444385</th>\n",
       "      <td>Inception</td>\n",
       "      <td>2010</td>\n",
       "      <td>Adam (IV) Cole</td>\n",
       "      <td>actor</td>\n",
       "      <td>Bar Sub Con</td>\n",
       "      <td>34.0</td>\n",
       "    </tr>\n",
       "    <tr>\n",
       "      <th>517227</th>\n",
       "      <td>Inception</td>\n",
       "      <td>2010</td>\n",
       "      <td>Jean-Michel Dagory</td>\n",
       "      <td>actor</td>\n",
       "      <td>Bridge Sub Con</td>\n",
       "      <td>30.0</td>\n",
       "    </tr>\n",
       "    <tr>\n",
       "      <th>590576</th>\n",
       "      <td>Inception</td>\n",
       "      <td>2010</td>\n",
       "      <td>Leonardo DiCaprio</td>\n",
       "      <td>actor</td>\n",
       "      <td>Cobb</td>\n",
       "      <td>1.0</td>\n",
       "    </tr>\n",
       "    <tr>\n",
       "      <th>709436</th>\n",
       "      <td>Inception</td>\n",
       "      <td>2010</td>\n",
       "      <td>Russ Fega</td>\n",
       "      <td>actor</td>\n",
       "      <td>Cab Driver</td>\n",
       "      <td>23.0</td>\n",
       "    </tr>\n",
       "    <tr>\n",
       "      <th>737322</th>\n",
       "      <td>Inception</td>\n",
       "      <td>2010</td>\n",
       "      <td>Mark Fleischmann</td>\n",
       "      <td>actor</td>\n",
       "      <td>Penrose Sub Con</td>\n",
       "      <td>32.0</td>\n",
       "    </tr>\n",
       "    <tr>\n",
       "      <th>807795</th>\n",
       "      <td>Inception</td>\n",
       "      <td>2010</td>\n",
       "      <td>Michael Gaston</td>\n",
       "      <td>actor</td>\n",
       "      <td>Immigration Officer</td>\n",
       "      <td>45.0</td>\n",
       "    </tr>\n",
       "    <tr>\n",
       "      <th>812135</th>\n",
       "      <td>Inception</td>\n",
       "      <td>2010</td>\n",
       "      <td>Johnathan Geare</td>\n",
       "      <td>actor</td>\n",
       "      <td>James (3 years)</td>\n",
       "      <td>17.0</td>\n",
       "    </tr>\n",
       "    <tr>\n",
       "      <th>832083</th>\n",
       "      <td>Inception</td>\n",
       "      <td>2010</td>\n",
       "      <td>Carl Gilliard</td>\n",
       "      <td>actor</td>\n",
       "      <td>Lobby Sub Con</td>\n",
       "      <td>40.0</td>\n",
       "    </tr>\n",
       "    <tr>\n",
       "      <th>833376</th>\n",
       "      <td>Inception</td>\n",
       "      <td>2010</td>\n",
       "      <td>Jack Gilroy</td>\n",
       "      <td>actor</td>\n",
       "      <td>Old Cobb</td>\n",
       "      <td>50.0</td>\n",
       "    </tr>\n",
       "    <tr>\n",
       "      <th>859993</th>\n",
       "      <td>Inception</td>\n",
       "      <td>2010</td>\n",
       "      <td>Joseph Gordon-Levitt</td>\n",
       "      <td>actor</td>\n",
       "      <td>Arthur</td>\n",
       "      <td>2.0</td>\n",
       "    </tr>\n",
       "    <tr>\n",
       "      <th>910757</th>\n",
       "      <td>Inception</td>\n",
       "      <td>2010</td>\n",
       "      <td>Lukas Haas</td>\n",
       "      <td>actor</td>\n",
       "      <td>Nash</td>\n",
       "      <td>12.0</td>\n",
       "    </tr>\n",
       "    <tr>\n",
       "      <th>940923</th>\n",
       "      <td>Inception</td>\n",
       "      <td>2010</td>\n",
       "      <td>Tom Hardy</td>\n",
       "      <td>actor</td>\n",
       "      <td>Eames</td>\n",
       "      <td>4.0</td>\n",
       "    </tr>\n",
       "    <tr>\n",
       "      <th>967176</th>\n",
       "      <td>Inception</td>\n",
       "      <td>2010</td>\n",
       "      <td>Ryan Hayward</td>\n",
       "      <td>actor</td>\n",
       "      <td>Lawyer</td>\n",
       "      <td>21.0</td>\n",
       "    </tr>\n",
       "    <tr>\n",
       "      <th>1170785</th>\n",
       "      <td>Inception</td>\n",
       "      <td>2010</td>\n",
       "      <td>Tim Kelleher</td>\n",
       "      <td>actor</td>\n",
       "      <td>Thin Man</td>\n",
       "      <td>24.0</td>\n",
       "    </tr>\n",
       "    <tr>\n",
       "      <th>1309851</th>\n",
       "      <td>Inception</td>\n",
       "      <td>2010</td>\n",
       "      <td>Tai-Li Lee</td>\n",
       "      <td>actor</td>\n",
       "      <td>Tadashi</td>\n",
       "      <td>13.0</td>\n",
       "    </tr>\n",
       "    <tr>\n",
       "      <th>1455534</th>\n",
       "      <td>Inception</td>\n",
       "      <td>2010</td>\n",
       "      <td>Tohoru Masamune</td>\n",
       "      <td>actor</td>\n",
       "      <td>Japanese Security Guard</td>\n",
       "      <td>18.0</td>\n",
       "    </tr>\n",
       "    <tr>\n",
       "      <th>1615709</th>\n",
       "      <td>Inception</td>\n",
       "      <td>2010</td>\n",
       "      <td>Cillian Murphy</td>\n",
       "      <td>actor</td>\n",
       "      <td>Robert Fischer</td>\n",
       "      <td>7.0</td>\n",
       "    </tr>\n",
       "    <tr>\n",
       "      <th>1618527</th>\n",
       "      <td>Inception</td>\n",
       "      <td>2010</td>\n",
       "      <td>Jack (III) Murray</td>\n",
       "      <td>actor</td>\n",
       "      <td>Bar Sub Con</td>\n",
       "      <td>35.0</td>\n",
       "    </tr>\n",
       "    <tr>\n",
       "      <th>1668790</th>\n",
       "      <td>Inception</td>\n",
       "      <td>2010</td>\n",
       "      <td>Magnus Nolan</td>\n",
       "      <td>actor</td>\n",
       "      <td>James (20 months)</td>\n",
       "      <td>15.0</td>\n",
       "    </tr>\n",
       "    <tr>\n",
       "      <th>1701902</th>\n",
       "      <td>Inception</td>\n",
       "      <td>2010</td>\n",
       "      <td>Yuji Okumoto</td>\n",
       "      <td>actor</td>\n",
       "      <td>Saito's Attendant</td>\n",
       "      <td>19.0</td>\n",
       "    </tr>\n",
       "    <tr>\n",
       "      <th>1812091</th>\n",
       "      <td>Inception</td>\n",
       "      <td>2010</td>\n",
       "      <td>Andrew Pleavin</td>\n",
       "      <td>actor</td>\n",
       "      <td>Businessman</td>\n",
       "      <td>47.0</td>\n",
       "    </tr>\n",
       "    <tr>\n",
       "      <th>1826027</th>\n",
       "      <td>Inception</td>\n",
       "      <td>2010</td>\n",
       "      <td>Pete Postlethwaite</td>\n",
       "      <td>actor</td>\n",
       "      <td>Maurice Fischer</td>\n",
       "      <td>10.0</td>\n",
       "    </tr>\n",
       "    <tr>\n",
       "      <th>1861317</th>\n",
       "      <td>Inception</td>\n",
       "      <td>2010</td>\n",
       "      <td>Marc Raducci</td>\n",
       "      <td>actor</td>\n",
       "      <td>Lobby Sub Con</td>\n",
       "      <td>39.0</td>\n",
       "    </tr>\n",
       "    <tr>\n",
       "      <th>1876301</th>\n",
       "      <td>Inception</td>\n",
       "      <td>2010</td>\n",
       "      <td>Dileep Rao</td>\n",
       "      <td>actor</td>\n",
       "      <td>Yusuf</td>\n",
       "      <td>6.0</td>\n",
       "    </tr>\n",
       "    <tr>\n",
       "      <th>2049179</th>\n",
       "      <td>Inception</td>\n",
       "      <td>2010</td>\n",
       "      <td>Felix Scott</td>\n",
       "      <td>actor</td>\n",
       "      <td>Businessman</td>\n",
       "      <td>46.0</td>\n",
       "    </tr>\n",
       "    <tr>\n",
       "      <th>2250605</th>\n",
       "      <td>Inception</td>\n",
       "      <td>2010</td>\n",
       "      <td>Jason Tendell</td>\n",
       "      <td>actor</td>\n",
       "      <td>Fischer's Driver</td>\n",
       "      <td>49.0</td>\n",
       "    </tr>\n",
       "    <tr>\n",
       "      <th>2267383</th>\n",
       "      <td>Inception</td>\n",
       "      <td>2010</td>\n",
       "      <td>Kraig Thornber</td>\n",
       "      <td>actor</td>\n",
       "      <td>Bar Sub Con</td>\n",
       "      <td>36.0</td>\n",
       "    </tr>\n",
       "    <tr>\n",
       "      <th>2406531</th>\n",
       "      <td>Inception</td>\n",
       "      <td>2010</td>\n",
       "      <td>Ken Watanabe</td>\n",
       "      <td>actor</td>\n",
       "      <td>Saito</td>\n",
       "      <td>5.0</td>\n",
       "    </tr>\n",
       "    <tr>\n",
       "      <th>2614557</th>\n",
       "      <td>Inception</td>\n",
       "      <td>2010</td>\n",
       "      <td>Natasha Beaumont</td>\n",
       "      <td>actress</td>\n",
       "      <td>Bar Sub Con</td>\n",
       "      <td>38.0</td>\n",
       "    </tr>\n",
       "    <tr>\n",
       "      <th>2765969</th>\n",
       "      <td>Inception</td>\n",
       "      <td>2010</td>\n",
       "      <td>Marion Cotillard</td>\n",
       "      <td>actress</td>\n",
       "      <td>Mal</td>\n",
       "      <td>9.0</td>\n",
       "    </tr>\n",
       "    <tr>\n",
       "      <th>2776554</th>\n",
       "      <td>Inception</td>\n",
       "      <td>2010</td>\n",
       "      <td>Helena Cullinan</td>\n",
       "      <td>actress</td>\n",
       "      <td>Penrose Sub Con</td>\n",
       "      <td>31.0</td>\n",
       "    </tr>\n",
       "    <tr>\n",
       "      <th>2807441</th>\n",
       "      <td>Inception</td>\n",
       "      <td>2010</td>\n",
       "      <td>Coralie Dedykere</td>\n",
       "      <td>actress</td>\n",
       "      <td>Bridge Sub Con</td>\n",
       "      <td>27.0</td>\n",
       "    </tr>\n",
       "    <tr>\n",
       "      <th>2932657</th>\n",
       "      <td>Inception</td>\n",
       "      <td>2010</td>\n",
       "      <td>Claire Geare</td>\n",
       "      <td>actress</td>\n",
       "      <td>Phillipa (3 years)</td>\n",
       "      <td>14.0</td>\n",
       "    </tr>\n",
       "    <tr>\n",
       "      <th>2932664</th>\n",
       "      <td>Inception</td>\n",
       "      <td>2010</td>\n",
       "      <td>Taylor Geare</td>\n",
       "      <td>actress</td>\n",
       "      <td>Phillipa (5 years)</td>\n",
       "      <td>16.0</td>\n",
       "    </tr>\n",
       "    <tr>\n",
       "      <th>3151982</th>\n",
       "      <td>Inception</td>\n",
       "      <td>2010</td>\n",
       "      <td>Silvie Laguna</td>\n",
       "      <td>actress</td>\n",
       "      <td>Bridge Sub Con</td>\n",
       "      <td>28.0</td>\n",
       "    </tr>\n",
       "    <tr>\n",
       "      <th>3158892</th>\n",
       "      <td>Inception</td>\n",
       "      <td>2010</td>\n",
       "      <td>Shelley Lang</td>\n",
       "      <td>actress</td>\n",
       "      <td>Penrose Sub Con</td>\n",
       "      <td>33.0</td>\n",
       "    </tr>\n",
       "    <tr>\n",
       "      <th>3203564</th>\n",
       "      <td>Inception</td>\n",
       "      <td>2010</td>\n",
       "      <td>Alex (II) Lombard</td>\n",
       "      <td>actress</td>\n",
       "      <td>Lobby Sub Con</td>\n",
       "      <td>42.0</td>\n",
       "    </tr>\n",
       "    <tr>\n",
       "      <th>3225843</th>\n",
       "      <td>Inception</td>\n",
       "      <td>2010</td>\n",
       "      <td>Jill Maddrell</td>\n",
       "      <td>actress</td>\n",
       "      <td>Lobby Sub Con</td>\n",
       "      <td>41.0</td>\n",
       "    </tr>\n",
       "    <tr>\n",
       "      <th>3343512</th>\n",
       "      <td>Inception</td>\n",
       "      <td>2010</td>\n",
       "      <td>Angela Nathenson</td>\n",
       "      <td>actress</td>\n",
       "      <td>Bar Sub Con</td>\n",
       "      <td>37.0</td>\n",
       "    </tr>\n",
       "    <tr>\n",
       "      <th>3359825</th>\n",
       "      <td>Inception</td>\n",
       "      <td>2010</td>\n",
       "      <td>Miranda Nolan</td>\n",
       "      <td>actress</td>\n",
       "      <td>Flight Attendant</td>\n",
       "      <td>22.0</td>\n",
       "    </tr>\n",
       "    <tr>\n",
       "      <th>3387147</th>\n",
       "      <td>Inception</td>\n",
       "      <td>2010</td>\n",
       "      <td>Ellen Page</td>\n",
       "      <td>actress</td>\n",
       "      <td>Ariadne</td>\n",
       "      <td>3.0</td>\n",
       "    </tr>\n",
       "    <tr>\n",
       "      <th>3444628</th>\n",
       "      <td>Inception</td>\n",
       "      <td>2010</td>\n",
       "      <td>Nicole Pulliam</td>\n",
       "      <td>actress</td>\n",
       "      <td>Lobby Sub Con</td>\n",
       "      <td>43.0</td>\n",
       "    </tr>\n",
       "    <tr>\n",
       "      <th>3473041</th>\n",
       "      <td>Inception</td>\n",
       "      <td>2010</td>\n",
       "      <td>Lisa (II) Reynolds</td>\n",
       "      <td>actress</td>\n",
       "      <td>Private Nurse</td>\n",
       "      <td>48.0</td>\n",
       "    </tr>\n",
       "    <tr>\n",
       "      <th>3480170</th>\n",
       "      <td>Inception</td>\n",
       "      <td>2010</td>\n",
       "      <td>Talulah Riley</td>\n",
       "      <td>actress</td>\n",
       "      <td>Blonde</td>\n",
       "      <td>25.0</td>\n",
       "    </tr>\n",
       "    <tr>\n",
       "      <th>3731263</th>\n",
       "      <td>Inception</td>\n",
       "      <td>2010</td>\n",
       "      <td>Shannon Welles</td>\n",
       "      <td>actress</td>\n",
       "      <td>Old Mal</td>\n",
       "      <td>51.0</td>\n",
       "    </tr>\n",
       "  </tbody>\n",
       "</table>\n",
       "</div>"
      ],
      "text/plain": [
       "             title  year                  name     type  \\\n",
       "149008   Inception  2010          Peter Basham    actor   \n",
       "183937   Inception  2010          Tom Berenger    actor   \n",
       "260128   Inception  2010        Virgile Bramly    actor   \n",
       "326745   Inception  2010         Michael Caine    actor   \n",
       "333415   Inception  2010          Earl Cameron    actor   \n",
       "433867   Inception  2010         Nicolas Clerc    actor   \n",
       "444385   Inception  2010        Adam (IV) Cole    actor   \n",
       "517227   Inception  2010    Jean-Michel Dagory    actor   \n",
       "590576   Inception  2010     Leonardo DiCaprio    actor   \n",
       "709436   Inception  2010             Russ Fega    actor   \n",
       "737322   Inception  2010      Mark Fleischmann    actor   \n",
       "807795   Inception  2010        Michael Gaston    actor   \n",
       "812135   Inception  2010       Johnathan Geare    actor   \n",
       "832083   Inception  2010         Carl Gilliard    actor   \n",
       "833376   Inception  2010           Jack Gilroy    actor   \n",
       "859993   Inception  2010  Joseph Gordon-Levitt    actor   \n",
       "910757   Inception  2010            Lukas Haas    actor   \n",
       "940923   Inception  2010             Tom Hardy    actor   \n",
       "967176   Inception  2010          Ryan Hayward    actor   \n",
       "1170785  Inception  2010          Tim Kelleher    actor   \n",
       "1309851  Inception  2010            Tai-Li Lee    actor   \n",
       "1455534  Inception  2010       Tohoru Masamune    actor   \n",
       "1615709  Inception  2010        Cillian Murphy    actor   \n",
       "1618527  Inception  2010     Jack (III) Murray    actor   \n",
       "1668790  Inception  2010          Magnus Nolan    actor   \n",
       "1701902  Inception  2010          Yuji Okumoto    actor   \n",
       "1812091  Inception  2010        Andrew Pleavin    actor   \n",
       "1826027  Inception  2010    Pete Postlethwaite    actor   \n",
       "1861317  Inception  2010          Marc Raducci    actor   \n",
       "1876301  Inception  2010            Dileep Rao    actor   \n",
       "2049179  Inception  2010           Felix Scott    actor   \n",
       "2250605  Inception  2010         Jason Tendell    actor   \n",
       "2267383  Inception  2010        Kraig Thornber    actor   \n",
       "2406531  Inception  2010          Ken Watanabe    actor   \n",
       "2614557  Inception  2010      Natasha Beaumont  actress   \n",
       "2765969  Inception  2010      Marion Cotillard  actress   \n",
       "2776554  Inception  2010       Helena Cullinan  actress   \n",
       "2807441  Inception  2010      Coralie Dedykere  actress   \n",
       "2932657  Inception  2010          Claire Geare  actress   \n",
       "2932664  Inception  2010          Taylor Geare  actress   \n",
       "3151982  Inception  2010         Silvie Laguna  actress   \n",
       "3158892  Inception  2010          Shelley Lang  actress   \n",
       "3203564  Inception  2010     Alex (II) Lombard  actress   \n",
       "3225843  Inception  2010         Jill Maddrell  actress   \n",
       "3343512  Inception  2010      Angela Nathenson  actress   \n",
       "3359825  Inception  2010         Miranda Nolan  actress   \n",
       "3387147  Inception  2010            Ellen Page  actress   \n",
       "3444628  Inception  2010        Nicole Pulliam  actress   \n",
       "3473041  Inception  2010    Lisa (II) Reynolds  actress   \n",
       "3480170  Inception  2010         Talulah Riley  actress   \n",
       "3731263  Inception  2010        Shannon Welles  actress   \n",
       "\n",
       "                       character     n  \n",
       "149008     Fischer's Jet Captain  44.0  \n",
       "183937                  Browning   8.0  \n",
       "260128            Bridge Sub Con  29.0  \n",
       "326745                     Miles  11.0  \n",
       "333415          Elderly Bald Man  20.0  \n",
       "433867            Bridge Sub Con  26.0  \n",
       "444385               Bar Sub Con  34.0  \n",
       "517227            Bridge Sub Con  30.0  \n",
       "590576                      Cobb   1.0  \n",
       "709436                Cab Driver  23.0  \n",
       "737322           Penrose Sub Con  32.0  \n",
       "807795       Immigration Officer  45.0  \n",
       "812135           James (3 years)  17.0  \n",
       "832083             Lobby Sub Con  40.0  \n",
       "833376                  Old Cobb  50.0  \n",
       "859993                    Arthur   2.0  \n",
       "910757                      Nash  12.0  \n",
       "940923                     Eames   4.0  \n",
       "967176                    Lawyer  21.0  \n",
       "1170785                 Thin Man  24.0  \n",
       "1309851                  Tadashi  13.0  \n",
       "1455534  Japanese Security Guard  18.0  \n",
       "1615709           Robert Fischer   7.0  \n",
       "1618527              Bar Sub Con  35.0  \n",
       "1668790        James (20 months)  15.0  \n",
       "1701902        Saito's Attendant  19.0  \n",
       "1812091              Businessman  47.0  \n",
       "1826027          Maurice Fischer  10.0  \n",
       "1861317            Lobby Sub Con  39.0  \n",
       "1876301                    Yusuf   6.0  \n",
       "2049179              Businessman  46.0  \n",
       "2250605         Fischer's Driver  49.0  \n",
       "2267383              Bar Sub Con  36.0  \n",
       "2406531                    Saito   5.0  \n",
       "2614557              Bar Sub Con  38.0  \n",
       "2765969                      Mal   9.0  \n",
       "2776554          Penrose Sub Con  31.0  \n",
       "2807441           Bridge Sub Con  27.0  \n",
       "2932657       Phillipa (3 years)  14.0  \n",
       "2932664       Phillipa (5 years)  16.0  \n",
       "3151982           Bridge Sub Con  28.0  \n",
       "3158892          Penrose Sub Con  33.0  \n",
       "3203564            Lobby Sub Con  42.0  \n",
       "3225843            Lobby Sub Con  41.0  \n",
       "3343512              Bar Sub Con  37.0  \n",
       "3359825         Flight Attendant  22.0  \n",
       "3387147                  Ariadne   3.0  \n",
       "3444628            Lobby Sub Con  43.0  \n",
       "3473041            Private Nurse  48.0  \n",
       "3480170                   Blonde  25.0  \n",
       "3731263                  Old Mal  51.0  "
      ]
     },
     "execution_count": 65,
     "metadata": {},
     "output_type": "execute_result"
    }
   ],
   "source": [
    "cast[(cast['title'] == 'Inception') & (cast['n'].isnull()==False)]\n"
   ]
  },
  {
   "cell_type": "markdown",
   "metadata": {},
   "source": [
    "### Section I - Q8: Show the top ten cast (actors\\actresses) in the movie \"Inception\" \n",
    "- main cast always have an 'n' value\n",
    "- remember to sort!"
   ]
  },
  {
   "cell_type": "code",
   "execution_count": 72,
   "metadata": {},
   "outputs": [
    {
     "name": "stdout",
     "output_type": "stream",
     "text": [
      "             title  year                  name     type        character     n\n",
      "590576   Inception  2010     Leonardo DiCaprio    actor             Cobb   1.0\n",
      "859993   Inception  2010  Joseph Gordon-Levitt    actor           Arthur   2.0\n",
      "3387147  Inception  2010            Ellen Page  actress          Ariadne   3.0\n",
      "940923   Inception  2010             Tom Hardy    actor            Eames   4.0\n",
      "2406531  Inception  2010          Ken Watanabe    actor            Saito   5.0\n",
      "1876301  Inception  2010            Dileep Rao    actor            Yusuf   6.0\n",
      "1615709  Inception  2010        Cillian Murphy    actor   Robert Fischer   7.0\n",
      "183937   Inception  2010          Tom Berenger    actor         Browning   8.0\n",
      "2765969  Inception  2010      Marion Cotillard  actress              Mal   9.0\n",
      "1826027  Inception  2010    Pete Postlethwaite    actor  Maurice Fischer  10.0\n"
     ]
    }
   ],
   "source": [
    "top_cast=cast[(cast['title'] == 'Inception') & (cast['n'].isnull()==False)]\n",
    "print(top_cast.sort_values('n').head(10))\n"
   ]
  },
  {
   "cell_type": "markdown",
   "metadata": {},
   "source": [
    "### Section I - Q9:\n",
    "\n",
    "(A) List all movies where there was a character 'Albus Dumbledore' \n",
    "\n",
    "(B) Now modify the above to show only the actors who played the character 'Albus Dumbledore'\n",
    "- For Part (B) remember the same actor might play the same role in multiple movies"
   ]
  },
  {
   "cell_type": "code",
   "execution_count": 95,
   "metadata": {},
   "outputs": [
    {
     "name": "stdout",
     "output_type": "stream",
     "text": [
      "704984                                       Epic Movie\n",
      "792419     Harry Potter and the Deathly Hallows: Part 1\n",
      "792420     Harry Potter and the Deathly Hallows: Part 2\n",
      "792421              Harry Potter and the Goblet of Fire\n",
      "792422           Harry Potter and the Half-Blood Prince\n",
      "792423        Harry Potter and the Order of the Phoenix\n",
      "792424         Harry Potter and the Prisoner of Azkaban\n",
      "947789          Harry Potter and the Chamber of Secrets\n",
      "947790            Harry Potter and the Sorcerer's Stone\n",
      "1685537                           Ultimate Hero Project\n",
      "1893421    Harry Potter and the Deathly Hallows: Part 1\n",
      "2248085                                          Potter\n",
      "Name: title, dtype: object\n"
     ]
    }
   ],
   "source": [
    "# cast_movies = cast.merge(movies, on=['title', 'year'])\n",
    "ad_movies = cast[cast['character'].str.contains('Albus Dumbledore', case=False)]\n",
    "print(ad_movies['title'])\n"
   ]
  },
  {
   "cell_type": "code",
   "execution_count": 96,
   "metadata": {},
   "outputs": [
    {
     "name": "stdout",
     "output_type": "stream",
     "text": [
      "['Dane Farwell' 'Michael Gambon' 'Richard Harris' \"George (X) O'Connor\"\n",
      " 'Toby Regbo' 'Timothy Tedmanson']\n"
     ]
    }
   ],
   "source": [
    "# cast_movies = cast.merge(movies, on=['title', 'year'])\n",
    "ad_movies = cast[cast['character'].str.contains('Albus Dumbledore', case=False)]\n",
    "print(ad_movies.agg('name').unique())"
   ]
  },
  {
   "cell_type": "markdown",
   "metadata": {},
   "source": [
    "### Section I - Q10:\n",
    "\n",
    "(A) How many roles has 'Keanu Reeves' played throughout his career?\n",
    "\n",
    "(B) List the leading roles that 'Keanu Reeves' played on or after 1999 in order by year."
   ]
  },
  {
   "cell_type": "code",
   "execution_count": 140,
   "metadata": {},
   "outputs": [
    {
     "name": "stdout",
     "output_type": "stream",
     "text": [
      "58\n"
     ]
    }
   ],
   "source": [
    "kr_movies = cast[(cast['n'].isnull()==False) & (cast['name'].str.contains('Keanu Reeves', case=False))]\n",
    "print(kr_movies.agg('name').count())"
   ]
  },
  {
   "cell_type": "code",
   "execution_count": 141,
   "metadata": {},
   "outputs": [
    {
     "name": "stdout",
     "output_type": "stream",
     "text": [
      "         year             character\n",
      "1892370  1999               Himself\n",
      "1892369  1999               Dogstar\n",
      "1892390  1999                   Neo\n",
      "1892398  2000               Griffin\n",
      "1892397  2000           Shane Falco\n",
      "1892387  2000      Donnie Barksdale\n",
      "1892383  2001           Nelson Moss\n",
      "1892358  2001         Conor O'Neill\n",
      "1892379  2003         Julian Mercer\n",
      "1892391  2003                   Neo\n",
      "1892392  2003                   Neo\n",
      "1892351  2005               Dogstar\n",
      "1892348  2005      John Constantine\n",
      "1892400  2005           Perry Lyman\n",
      "1892388  2006            Alex Wyler\n",
      "1892343  2006            Bob Arctor\n",
      "1892382  2008  Detective Tom Ludlow\n",
      "1892385  2008                Klaatu\n",
      "1892396  2009          Chris Nadeau\n",
      "1892359  2010           Henry Torne\n",
      "1892342  2013                   Kai\n",
      "1892368  2013           Donaka Mark\n",
      "1892361  2014             John Wick\n",
      "1892366  2015                  Evan\n",
      "1892365  2016                 Keanu\n",
      "1892393  2016                  Hank\n",
      "1892353  2016      Detective Galban\n",
      "1892399  2016                Ramsey\n",
      "1892384  2016             The Dream\n",
      "1892362  2017             John Wick\n",
      "1892401  2017           Dr. Beckham\n",
      "1892378  2018            Lucas Hill\n"
     ]
    }
   ],
   "source": [
    "kr_movies = cast[(cast['n'].isnull()==False) & (cast['name'].str.contains('Keanu Reeves', case=False)) & (cast['year']>=1999)]\n",
    "print(kr_movies[['year','character']].sort_values(by='year'))"
   ]
  },
  {
   "cell_type": "markdown",
   "metadata": {},
   "source": [
    "### Section I - Q11: \n",
    "\n",
    "(A) List the total number of actor and actress roles available from 1950 - 1960\n",
    "\n",
    "(B) List the total number of actor and actress roles available from 2007 - 2017"
   ]
  },
  {
   "cell_type": "code",
   "execution_count": 130,
   "metadata": {},
   "outputs": [
    {
     "data": {
      "text/plain": [
       "234635"
      ]
     },
     "execution_count": 130,
     "metadata": {},
     "output_type": "execute_result"
    }
   ],
   "source": [
    "cast[(cast['year'] >= 1950) & (cast['year'] <= 1960)].agg('character').count()"
   ]
  },
  {
   "cell_type": "code",
   "execution_count": 131,
   "metadata": {},
   "outputs": [
    {
     "data": {
      "text/plain": [
       "1452413"
      ]
     },
     "execution_count": 131,
     "metadata": {},
     "output_type": "execute_result"
    }
   ],
   "source": [
    "cast[(cast['year'] >= 2007) & (cast['year'] <= 2017)].agg('character').count()"
   ]
  },
  {
   "cell_type": "markdown",
   "metadata": {},
   "source": [
    "### Section I - Q12: \n",
    "\n",
    "(A) List the total number of leading roles available from 2000 to present\n",
    "\n",
    "(B) List the total number of non-leading roles available from 2000 - present (exclude support cast)\n",
    "\n",
    "(C) List the total number of support\\extra-credit roles available from 2000 - present"
   ]
  },
  {
   "cell_type": "code",
   "execution_count": 136,
   "metadata": {},
   "outputs": [
    {
     "data": {
      "text/plain": [
       "1062278"
      ]
     },
     "execution_count": 136,
     "metadata": {},
     "output_type": "execute_result"
    }
   ],
   "source": [
    "cast[(cast['year'] >= 2000) & (cast['n'].isnull()==False)].agg('character').count()"
   ]
  },
  {
   "cell_type": "code",
   "execution_count": 142,
   "metadata": {},
   "outputs": [
    {
     "data": {
      "text/plain": [
       "427198"
      ]
     },
     "execution_count": 142,
     "metadata": {},
     "output_type": "execute_result"
    }
   ],
   "source": [
    "cast[(cast['year'] >= 2000) & (cast['n'] < 10)].agg('character').count()"
   ]
  },
  {
   "cell_type": "code",
   "execution_count": 143,
   "metadata": {},
   "outputs": [
    {
     "data": {
      "text/plain": [
       "887484"
      ]
     },
     "execution_count": 143,
     "metadata": {},
     "output_type": "execute_result"
    }
   ],
   "source": [
    "cast[(cast['year'] >= 2000) & (cast['n'].isnull())].agg('character').count()"
   ]
  },
  {
   "cell_type": "markdown",
   "metadata": {},
   "source": [
    "# Section II - Aggregations, Transformations and Visualizations"
   ]
  },
  {
   "cell_type": "markdown",
   "metadata": {},
   "source": [
    "## What are the top ten most common movie names of all time?\n"
   ]
  },
  {
   "cell_type": "code",
   "execution_count": 144,
   "metadata": {},
   "outputs": [
    {
     "data": {
      "text/plain": [
       "Hamlet                  20\n",
       "Carmen                  17\n",
       "Macbeth                 16\n",
       "Maya                    12\n",
       "Temptation              12\n",
       "The Outsider            12\n",
       "Freedom                 11\n",
       "The Three Musketeers    11\n",
       "Honeymoon               11\n",
       "Othello                 11\n",
       "Name: title, dtype: int64"
      ]
     },
     "execution_count": 144,
     "metadata": {},
     "output_type": "execute_result"
    }
   ],
   "source": [
    "top_ten = movies.title.value_counts()[:10]\n",
    "top_ten"
   ]
  },
  {
   "cell_type": "markdown",
   "metadata": {},
   "source": [
    "### Plot the top ten common movie names of all time"
   ]
  },
  {
   "cell_type": "code",
   "execution_count": 145,
   "metadata": {},
   "outputs": [
    {
     "data": {
      "text/plain": [
       "<AxesSubplot:>"
      ]
     },
     "execution_count": 145,
     "metadata": {},
     "output_type": "execute_result"
    },
    {
     "data": {
      "image/png": "[encoded data removed]",
      "text/plain": [
       "<Figure size 432x288 with 1 Axes>"
      ]
     },
     "metadata": {
      "needs_background": "light"
     },
     "output_type": "display_data"
    }
   ],
   "source": [
    "top_ten.plot(kind='barh')"
   ]
  },
  {
   "cell_type": "markdown",
   "metadata": {},
   "source": [
    "### Section II - Q1:  Which years in the 2000s saw the most movies released? (Show top 3)"
   ]
  },
  {
   "cell_type": "code",
   "execution_count": 167,
   "metadata": {},
   "outputs": [
    {
     "data": {
      "text/html": [
       "<div>\n",
       "<style scoped>\n",
       "    .dataframe tbody tr th:only-of-type {\n",
       "        vertical-align: middle;\n",
       "    }\n",
       "\n",
       "    .dataframe tbody tr th {\n",
       "        vertical-align: top;\n",
       "    }\n",
       "\n",
       "    .dataframe thead th {\n",
       "        text-align: right;\n",
       "    }\n",
       "</style>\n",
       "<table border=\"1\" class=\"dataframe\">\n",
       "  <thead>\n",
       "    <tr style=\"text-align: right;\">\n",
       "      <th></th>\n",
       "      <th>title</th>\n",
       "    </tr>\n",
       "    <tr>\n",
       "      <th>year</th>\n",
       "      <th></th>\n",
       "    </tr>\n",
       "  </thead>\n",
       "  <tbody>\n",
       "    <tr>\n",
       "      <th>2017</th>\n",
       "      <td>11474</td>\n",
       "    </tr>\n",
       "    <tr>\n",
       "      <th>2016</th>\n",
       "      <td>9440</td>\n",
       "    </tr>\n",
       "    <tr>\n",
       "      <th>2015</th>\n",
       "      <td>8702</td>\n",
       "    </tr>\n",
       "  </tbody>\n",
       "</table>\n",
       "</div>"
      ],
      "text/plain": [
       "      title\n",
       "year       \n",
       "2017  11474\n",
       "2016   9440\n",
       "2015   8702"
      ]
     },
     "execution_count": 167,
     "metadata": {},
     "output_type": "execute_result"
    }
   ],
   "source": [
    "mov_years = movies[(movies['year']>=2000) & (movies['year']<3000)].groupby('year').count()\n",
    "mov_years.sort_values(by='title', ascending=False).iloc[:3]"
   ]
  },
  {
   "cell_type": "markdown",
   "metadata": {},
   "source": [
    "### Section II - Q2: # Plot the total number of films released per-decade (1890, 1900, 1910,....)\n",
    "- Hint: Dividing the year and multiplying with a number might give you the decade the year falls into!\n",
    "- You might need to sort before plotting"
   ]
  },
  {
   "cell_type": "code",
   "execution_count": 186,
   "metadata": {},
   "outputs": [
    {
     "data": {
      "text/plain": [
       "<AxesSubplot:>"
      ]
     },
     "execution_count": 186,
     "metadata": {},
     "output_type": "execute_result"
    },
    {
     "data": {
      "image/png": "[encoded data removed]",
      "text/plain": [
       "<Figure size 432x288 with 1 Axes>"
      ]
     },
     "metadata": {
      "needs_background": "light"
     },
     "output_type": "display_data"
    }
   ],
   "source": [
    "movies['decade'] = movies['year'] - movies['year']%10\n",
    "mov_year = movies.decade.value_counts()\n",
    "mov_year = mov_year.sort_index()\n",
    "mov_year.plot(kind='barh')"
   ]
  },
  {
   "cell_type": "markdown",
   "metadata": {},
   "source": [
    "### Section II - Q3: \n",
    "\n",
    "(A) What are the top 10 most common character names in movie history?\n",
    "\n",
    "(B) Who are the top 10 people most often credited as \"Herself\" in movie history?\n",
    "\n",
    "(C) Who are the top 10 people most often credited as \"Himself\" in movie history?"
   ]
  },
  {
   "cell_type": "code",
   "execution_count": 188,
   "metadata": {},
   "outputs": [
    {
     "name": "stdout",
     "output_type": "stream",
     "text": [
      "character\n",
      "Himself        20746\n",
      "Dancer         12477\n",
      "Extra          11948\n",
      "Reporter        8434\n",
      "Student         7773\n",
      "Doctor          7669\n",
      "Party Guest     7245\n",
      "Policeman       7029\n",
      "Nurse           6999\n",
      "Bartender       6802\n",
      "dtype: int64\n"
     ]
    }
   ],
   "source": [
    "print(cast.value_counts('character').head(10))\n"
   ]
  },
  {
   "cell_type": "code",
   "execution_count": 192,
   "metadata": {},
   "outputs": [
    {
     "name": "stdout",
     "output_type": "stream",
     "text": [
      "name\n",
      "Queen Elizabeth II                  18\n",
      "Jacqueline Kennedy                  12\n",
      "Joyce Brothers                      10\n",
      "Margaret Thatcher                   10\n",
      "Hillary Clinton                      9\n",
      "Mar?a Luisa (V) Mart?n               9\n",
      "Luisa Horga                          9\n",
      "Pat Nixon                            8\n",
      "Caroline Kennedy                     7\n",
      "Queen Elizabeth the Queen Mother     7\n",
      "dtype: int64\n"
     ]
    }
   ],
   "source": [
    "print(cast[cast['character'].str.contains('Herself', case=False)].value_counts('name').head(10))"
   ]
  },
  {
   "cell_type": "code",
   "execution_count": 193,
   "metadata": {},
   "outputs": [
    {
     "name": "stdout",
     "output_type": "stream",
     "text": [
      "name\n",
      "Adolf Hitler             115\n",
      "Richard Nixon             54\n",
      "John F. Kennedy           49\n",
      "Ronald Reagan             46\n",
      "Winston Churchill         28\n",
      "George W. Bush            28\n",
      "Benito Mussolini          26\n",
      "Martin Luther King        26\n",
      "Franklin D. Roosevelt     25\n",
      "Bill Clinton              23\n",
      "dtype: int64\n"
     ]
    }
   ],
   "source": [
    "print(cast[cast['character'].str.contains('Himself', case=False)].value_counts('name').head(10))"
   ]
  },
  {
   "cell_type": "code",
   "execution_count": null,
   "metadata": {},
   "outputs": [],
   "source": []
  },
  {
   "cell_type": "markdown",
   "metadata": {},
   "source": [
    "### Section II - Q4: \n",
    "\n",
    "(A) What are the top 10 most frequent roles that start with the word \"Zombie\"?\n",
    "\n",
    "(B) What are the top 10 most frequent roles that start with the word \"Police\"?\n",
    "\n",
    "- Hint: The `startswith()` function might be useful"
   ]
  },
  {
   "cell_type": "code",
   "execution_count": 199,
   "metadata": {},
   "outputs": [
    {
     "name": "stdout",
     "output_type": "stream",
     "text": [
      "character\n",
      "Zombie                         6264\n",
      "Zombie Horde                    206\n",
      "Zombie - Protestor - Victim      78\n",
      "Zombie Extra                     70\n",
      "Zombie Dancer                    43\n",
      "Zombie Girl                      36\n",
      "Zombie #1                        36\n",
      "Zombie #2                        31\n",
      "Zombie Vampire                   25\n",
      "Zombie Victim                    22\n",
      "dtype: int64\n"
     ]
    }
   ],
   "source": [
    "print(cast[cast['character'].str.startswith('Zombie')].value_counts('character').head(10))"
   ]
  },
  {
   "cell_type": "code",
   "execution_count": 197,
   "metadata": {},
   "outputs": [
    {
     "name": "stdout",
     "output_type": "stream",
     "text": [
      "character\n",
      "Policeman              7029\n",
      "Police Officer         4808\n",
      "Police Inspector        742\n",
      "Police Sergeant         674\n",
      "Police officer          539\n",
      "Police                  456\n",
      "Policewoman             415\n",
      "Police Chief            410\n",
      "Police Captain          387\n",
      "Police Commissioner     337\n",
      "dtype: int64\n"
     ]
    }
   ],
   "source": [
    "print(cast[cast['character'].str.startswith('Police')].value_counts('character').head(10))"
   ]
  },
  {
   "cell_type": "markdown",
   "metadata": {},
   "source": [
    "### Section II - Q5: Plot how many roles 'Keanu Reeves' has played in each year of his career."
   ]
  },
  {
   "cell_type": "code",
   "execution_count": 201,
   "metadata": {},
   "outputs": [
    {
     "name": "stdout",
     "output_type": "stream",
     "text": [
      "      character\n",
      "year           \n",
      "1985          1\n",
      "1986          3\n",
      "1988          4\n",
      "1989          2\n",
      "1990          2\n",
      "1991          3\n",
      "1992          1\n",
      "1993          4\n",
      "1994          1\n",
      "1995          2\n",
      "1996          2\n",
      "1997          2\n",
      "1999          3\n",
      "2000          3\n",
      "2001          2\n",
      "2003          3\n",
      "2005          3\n",
      "2006          2\n",
      "2008          2\n",
      "2009          1\n",
      "2010          1\n",
      "2012          1\n",
      "2013          2\n",
      "2014          1\n",
      "2015          1\n",
      "2016          5\n",
      "2017          3\n",
      "2018          1\n",
      "2019          1\n"
     ]
    }
   ],
   "source": [
    "kr_movies = cast[(cast['name'].str.contains('Keanu Reeves', case=False))]\n",
    "print(kr_movies[['year','character']].groupby('year').count())"
   ]
  },
  {
   "cell_type": "markdown",
   "metadata": {},
   "source": [
    "### Section II - Q6: Plot the cast positions (n-values) of Keanu Reeve's roles through his career over the years.\n"
   ]
  },
  {
   "cell_type": "code",
   "execution_count": 217,
   "metadata": {},
   "outputs": [
    {
     "data": {
      "text/plain": [
       "<AxesSubplot:xlabel='year'>"
      ]
     },
     "execution_count": 217,
     "metadata": {},
     "output_type": "execute_result"
    },
    {
     "data": {
      "image/png": "[encoded data removed]",
      "text/plain": [
       "<Figure size 432x288 with 1 Axes>"
      ]
     },
     "metadata": {
      "needs_background": "light"
     },
     "output_type": "display_data"
    }
   ],
   "source": [
    "kr_movies = cast[(cast['name'].str.contains('Keanu Reeves', case=False))]\n",
    "kr_plot = kr_movies[['year', 'n']].sort_values('year')\n",
    "# print(kr_plot.head())\n",
    "kr_plot.plot(x='year', y='n')\n"
   ]
  },
  {
   "cell_type": "markdown",
   "metadata": {},
   "source": [
    "### Section II - Q7: Plot the number of \"Hamlet\" films made by each decade"
   ]
  },
  {
   "cell_type": "code",
   "execution_count": 29,
   "metadata": {},
   "outputs": [
    {
     "data": {
      "text/plain": [
       "<AxesSubplot:xlabel='decade'>"
      ]
     },
     "execution_count": 29,
     "metadata": {},
     "output_type": "execute_result"
    },
    {
     "data": {
      "image/png": "[encoded data removed]",
      "text/plain": [
       "<Figure size 432x288 with 1 Axes>"
      ]
     },
     "metadata": {
      "needs_background": "light"
     },
     "output_type": "display_data"
    }
   ],
   "source": [
    "movies['decade'] = (movies['year'] - (movies['year']%10))\n",
    "# movies['decade_int'] = (movies['decade'].astype('str'))\n",
    "\n",
    "assert movies['decade'].dtype == 'int'\n",
    "\n",
    "hamlet_movs = movies[movies['title'].str.contains(\"Hamlet\", case=False)]\n",
    "# print(hamlet_movs)\n",
    "hamlet_plot = hamlet_movs.groupby('decade').count()\n",
    "# print(hamlet_plot)\n",
    "hamlet_plot.plot(y='title')\n"
   ]
  },
  {
   "cell_type": "markdown",
   "metadata": {
    "tags": []
   },
   "source": [
    "### Section II - Q8: \n",
    "\n",
    "(A) How many leading roles were available to both actors and actresses, in the 1960s (1960-1969)?\n",
    "\n",
    "(B) How many leading roles were available to both actors and actresses, in the 2000s (2000-2009)?\n",
    "\n",
    "- Hint: A specific value of n might indicate a leading role"
   ]
  },
  {
   "cell_type": "code",
   "execution_count": 39,
   "metadata": {},
   "outputs": [
    {
     "data": {
      "text/plain": [
       "86122"
      ]
     },
     "execution_count": 39,
     "metadata": {},
     "output_type": "execute_result"
    }
   ],
   "source": [
    "roles60s = cast[(cast['n']<11) & (cast['year']>=1960) & (cast['year']<1970)]\n",
    "roles60s['title'].count()"
   ]
  },
  {
   "cell_type": "code",
   "execution_count": 40,
   "metadata": {},
   "outputs": [
    {
     "data": {
      "text/plain": [
       "204299"
      ]
     },
     "execution_count": 40,
     "metadata": {},
     "output_type": "execute_result"
    }
   ],
   "source": [
    "roles2000 = cast[(cast['n']<11) & (cast['year']>=2000) & (cast['year']<2010)]\n",
    "roles2000['title'].count()"
   ]
  },
  {
   "cell_type": "markdown",
   "metadata": {},
   "source": [
    "### Section II - Q9: List, in order by year, each of the films in which Frank Oz has played more than 1 role."
   ]
  },
  {
   "cell_type": "code",
   "execution_count": 57,
   "metadata": {},
   "outputs": [
    {
     "name": "stdout",
     "output_type": "stream",
     "text": [
      "                                           name  type  character  n\n",
      "year title                                                         \n",
      "1979 The Muppet Movie                         8     8          8  8\n",
      "1981 An American Werewolf in London           2     2          2  2\n",
      "     The Great Muppet Caper                   6     6          6  6\n",
      "1982 The Dark Crystal                         2     2          2  2\n",
      "1984 The Muppets Take Manhattan               7     7          7  7\n",
      "1985 Follow That Bird                         3     3          3  3\n",
      "1992 The Muppet Christmas Carol               7     7          7  7\n",
      "1996 Muppet Treasure Island                   4     4          4  4\n",
      "1999 Muppets from Space                       4     4          4  4\n",
      "     The Adventures of Elmo in Grouchland     3     3          3  3\n"
     ]
    }
   ],
   "source": [
    "fo_movs = cast[cast['name'].str.contains('Frank Oz', case=False)]\n",
    "fo_movs_sort = fo_movs.sort_values(by=['year','title'])\n",
    "nearly = fo_movs_sort.groupby(['year', 'title']).count()\n",
    "print(nearly[nearly['n']>1])\n"
   ]
  },
  {
   "cell_type": "markdown",
   "metadata": {},
   "source": [
    "### Section II - Q10: List each of the characters that Frank Oz has portrayed at least twice"
   ]
  },
  {
   "cell_type": "code",
   "execution_count": 60,
   "metadata": {},
   "outputs": [
    {
     "name": "stdout",
     "output_type": "stream",
     "text": [
      "                                           name  type  character  n\n",
      "year title                                                         \n",
      "1979 The Muppet Movie                         8     8          8  8\n",
      "1981 The Great Muppet Caper                   6     6          6  6\n",
      "1984 The Muppets Take Manhattan               7     7          7  7\n",
      "1985 Follow That Bird                         3     3          3  3\n",
      "1992 The Muppet Christmas Carol               7     7          7  7\n",
      "1996 Muppet Treasure Island                   4     4          4  4\n",
      "1999 Muppets from Space                       4     4          4  4\n",
      "     The Adventures of Elmo in Grouchland     3     3          3  3\n"
     ]
    }
   ],
   "source": [
    "fo_movs = cast[cast['name'].str.contains('Frank Oz', case=False)]\n",
    "fo_movs_sort = fo_movs.sort_values(by=['year','title'])\n",
    "nearly = fo_movs_sort.groupby(['year', 'title']).count()\n",
    "print(nearly[nearly['n']>2])\n"
   ]
  },
  {
   "cell_type": "markdown",
   "metadata": {},
   "source": [
    "# Section III - Advanced Merging, Querying and Visualizations"
   ]
  },
  {
   "cell_type": "markdown",
   "metadata": {},
   "source": [
    "## Make a bar plot with the following conditions\n",
    "- Frequency of the number of movies with \"Christmas\" in their title \n",
    "- Movies should be such that they are released in the USA.\n",
    "- Show the frequency plot by month"
   ]
  },
  {
   "cell_type": "code",
   "execution_count": 61,
   "metadata": {},
   "outputs": [
    {
     "data": {
      "text/plain": [
       "<AxesSubplot:>"
      ]
     },
     "execution_count": 61,
     "metadata": {},
     "output_type": "execute_result"
    },
    {
     "data": {
      "image/png": "[encoded data removed]",
      "text/plain": [
       "<Figure size 432x288 with 1 Axes>"
      ]
     },
     "metadata": {
      "needs_background": "light"
     },
     "output_type": "display_data"
    }
   ],
   "source": [
    "v"
   ]
  },
  {
   "cell_type": "markdown",
   "metadata": {},
   "source": [
    "### Section III - Q1: Make a bar plot with the following conditions\n",
    "- Frequency of the number of movies with \"Summer\" in their title \n",
    "- Movies should be such that they are released in the USA.\n",
    "- Show the frequency plot by month"
   ]
  },
  {
   "cell_type": "code",
   "execution_count": 62,
   "metadata": {},
   "outputs": [
    {
     "data": {
      "text/plain": [
       "<AxesSubplot:>"
      ]
     },
     "execution_count": 62,
     "metadata": {},
     "output_type": "execute_result"
    },
    {
     "data": {
      "image/png": "[encoded data removed]",
      "text/plain": [
       "<Figure size 432x288 with 1 Axes>"
      ]
     },
     "metadata": {
      "needs_background": "light"
     },
     "output_type": "display_data"
    }
   ],
   "source": [
    "christmas = release_dates[(release_dates.title.str.contains('Summer')) & (release_dates.country == 'USA')]\n",
    "christmas.date.dt.month.value_counts().sort_index().plot(kind='bar')"
   ]
  },
  {
   "cell_type": "markdown",
   "metadata": {},
   "source": [
    "### Section III - Q2: Make a bar plot with the following conditions\n",
    "- Frequency of the number of movies with \"Action\" in their title \n",
    "- Movies should be such that they are released in the USA.\n",
    "- Show the frequency plot by week"
   ]
  },
  {
   "cell_type": "code",
   "execution_count": 64,
   "metadata": {},
   "outputs": [
    {
     "data": {
      "text/plain": [
       "<AxesSubplot:>"
      ]
     },
     "execution_count": 64,
     "metadata": {},
     "output_type": "execute_result"
    },
    {
     "data": {
      "image/png": "[encoded data removed]",
      "text/plain": [
       "<Figure size 432x288 with 1 Axes>"
      ]
     },
     "metadata": {
      "needs_background": "light"
     },
     "output_type": "display_data"
    }
   ],
   "source": [
    "christmas = release_dates[(release_dates.title.str.contains('Action')) & (release_dates.country == 'USA')]\n",
    "christmas.date.dt.isocalendar().week.value_counts().sort_index().plot(kind='bar')"
   ]
  },
  {
   "cell_type": "markdown",
   "metadata": {},
   "source": [
    "### Section III - Q3: Show all the movies in which Keanu Reeves has played the lead role along with their   release date in the USA sorted by the date of release\n",
    "- Hint: You might need to join or merge two datasets!"
   ]
  },
  {
   "cell_type": "code",
   "execution_count": null,
   "metadata": {},
   "outputs": [],
   "source": []
  },
  {
   "cell_type": "code",
   "execution_count": 92,
   "metadata": {},
   "outputs": [
    {
     "name": "stdout",
     "output_type": "stream",
     "text": [
      "    year                             title\n",
      "31  1985                     One Step Away\n",
      "52  1988                  The Night Before\n",
      "4   1989  Bill & Ted's Excellent Adventure\n",
      "3   1991        Bill & Ted's Bogus Journey\n",
      "25  1993                     Little Buddha\n",
      "38  1994                             Speed\n",
      "2   1995              A Walk in the Clouds\n",
      "22  1995                   Johnny Mnemonic\n",
      "5   1996                    Chain Reaction\n",
      "12  1996                 Feeling Minnesota\n",
      "44  1997              The Devil's Advocate\n",
      "48  1999                        The Matrix\n",
      "55  2000                  The Replacements\n",
      "16  2001                         Hard Ball\n",
      "41  2001                    Sweet November\n",
      "6   2005                       Constantine\n",
      "46  2006                    The Lake House\n",
      "40  2008                      Street Kings\n",
      "43  2008     The Day the Earth Stood Still\n",
      "17  2010                     Henry's Crime\n",
      "0   2013                          47 Ronin\n",
      "19  2014                         John Wick\n",
      "24  2015                       Knock Knock\n",
      "57  2016                   The Whole Truth\n",
      "20  2017              John Wick: Chapter 2\n",
      "36  2018                           Siberia\n"
     ]
    }
   ],
   "source": [
    "cast_dates = cast[cast['name']==\"Keanu Reeves\"].merge(release_dates[release_dates['country']=='USA'], on=['title','year'], how='left')\n",
    "nearly = cast_dates[(cast_dates['name'].str.contains('Keanu Reeves')) & (cast_dates['n'] < 2)].sort_values('year')\n",
    "print(nearly[['year','title']])\n"
   ]
  },
  {
   "cell_type": "markdown",
   "metadata": {
    "tags": []
   },
   "source": [
    "### Section III - Q4: Make a bar plot showing the months in which movies with Keanu Reeves tend to be released in the USA?"
   ]
  },
  {
   "cell_type": "code",
   "execution_count": 94,
   "metadata": {},
   "outputs": [
    {
     "data": {
      "text/plain": [
       "<AxesSubplot:>"
      ]
     },
     "execution_count": 94,
     "metadata": {},
     "output_type": "execute_result"
    },
    {
     "data": {
      "image/png": "[encoded data removed]",
      "text/plain": [
       "<Figure size 432x288 with 1 Axes>"
      ]
     },
     "metadata": {
      "needs_background": "light"
     },
     "output_type": "display_data"
    }
   ],
   "source": [
    "cast_dates = cast[cast['name']==\"Keanu Reeves\"].merge(release_dates[release_dates['country']=='USA'], on=['title','year'], how='left')\n",
    "cast_dates.date.dt.month.value_counts().sort_index().plot(kind='bar')\n"
   ]
  },
  {
   "cell_type": "markdown",
   "metadata": {},
   "source": [
    "### Section III - Q5: Make a bar plot showing the years in which movies with Ian McKellen tend to be released in the USA?"
   ]
  },
  {
   "cell_type": "code",
   "execution_count": 95,
   "metadata": {},
   "outputs": [
    {
     "data": {
      "text/plain": [
       "<AxesSubplot:>"
      ]
     },
     "execution_count": 95,
     "metadata": {},
     "output_type": "execute_result"
    },
    {
     "data": {
      "image/png": "[encoded data removed]",
      "text/plain": [
       "<Figure size 432x288 with 1 Axes>"
      ]
     },
     "metadata": {
      "needs_background": "light"
     },
     "output_type": "display_data"
    }
   ],
   "source": [
    "cast_dates = cast[cast['name']==\"Ian McKellen\"].merge(release_dates[release_dates['country']=='USA'], on=['title','year'], how='left')\n",
    "cast_dates.date.dt.year.value_counts().sort_index().plot(kind='bar')\n"
   ]
  },
  {
   "cell_type": "code",
   "execution_count": null,
   "metadata": {},
   "outputs": [],
   "source": []
  }
 ],
 "metadata": {
  "kernelspec": {
   "display_name": "Python 3 (ipykernel)",
   "language": "python",
   "name": "python3"
  },
  "language_info": {
   "codemirror_mode": {
    "name": "ipython",
    "version": 3
   },
   "file_extension": ".py",
   "mimetype": "text/x-python",
   "name": "python",
   "nbconvert_exporter": "python",
   "pygments_lexer": "ipython3",
   "version": "3.9.7"
  }
 },
 "nbformat": 4,
 "nbformat_minor": 4
}
