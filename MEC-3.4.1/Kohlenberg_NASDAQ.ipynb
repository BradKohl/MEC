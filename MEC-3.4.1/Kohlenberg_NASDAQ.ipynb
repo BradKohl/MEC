{
 "cells": [
  {
   "cell_type": "code",
   "execution_count": 140,
   "id": "de7c6236-8fc9-4e06-9f36-919113c7f608",
   "metadata": {},
   "outputs": [
    {
     "name": "stdout",
     "output_type": "stream",
     "text": [
      "BexmaoduuiaEcWGdrLQr\n"
     ]
    }
   ],
   "source": [
    "# get api key from your .env file\n",
    "import os\n",
    "from dotenv import load_dotenv  # if missing this module, simply run `pip install python-dotenv`\n",
    "\n",
    "load_dotenv()\n",
    "API_KEY = os.getenv('NASDAQ_API_KEY')\n",
    "\n",
    "# print(API_KEY)\n"
   ]
  },
  {
   "cell_type": "code",
   "execution_count": 141,
   "id": "86be28fc-44f1-4b47-8a7a-1e1fb9badb32",
   "metadata": {},
   "outputs": [],
   "source": [
    "#pip install python-dotenv\n"
   ]
  },
  {
   "cell_type": "code",
   "execution_count": 142,
   "id": "0d5be635-9de7-4a34-b42f-d21503642c1e",
   "metadata": {},
   "outputs": [],
   "source": [
    "import json\n",
    "import requests"
   ]
  },
  {
   "cell_type": "code",
   "execution_count": 198,
   "id": "b6cfc2f1-40f1-4c98-8754-12c4c1008076",
   "metadata": {},
   "outputs": [],
   "source": [
    "url = 'https://data.nasdaq.com/api/v3/datasets/FSE/AFX_X'\n",
    "params = {'api_key' : API_KEY, 'ticker' : 'AFX_X', 'start_date': '2017-01-01', 'end_date':'2017-12-31'}\n",
    "r = requests.get(url, params)"
   ]
  },
  {
   "cell_type": "code",
   "execution_count": 199,
   "id": "16bc7a71-0d84-4485-9249-6244dd730a33",
   "metadata": {},
   "outputs": [
    {
     "data": {
      "text/plain": [
       "{'api_key': 'BexmaoduuiaEcWGdrLQr',\n",
       " 'ticker': 'AFX_X',\n",
       " 'start_date': '2017-01-01',\n",
       " 'end_date': '2017-12-31'}"
      ]
     },
     "execution_count": 199,
     "metadata": {},
     "output_type": "execute_result"
    }
   ],
   "source": [
    "params"
   ]
  },
  {
   "cell_type": "code",
   "execution_count": 200,
   "id": "cdae0038-6765-4c0d-ba49-253dc7c2d300",
   "metadata": {},
   "outputs": [
    {
     "name": "stdout",
     "output_type": "stream",
     "text": [
      "<class 'requests.models.Response'>\n",
      "<Response [200]>\n"
     ]
    },
    {
     "data": {
      "text/plain": [
       "'application/json; charset=utf-8'"
      ]
     },
     "execution_count": 200,
     "metadata": {},
     "output_type": "execute_result"
    }
   ],
   "source": [
    "print(type(r))\n",
    "print(r)\n",
    "r.encoding\n",
    "r.headers['content-type']\n",
    "# r.text"
   ]
  },
  {
   "cell_type": "code",
   "execution_count": 201,
   "id": "d09ac2dd-60cd-47c6-850f-385c7fe68de0",
   "metadata": {},
   "outputs": [],
   "source": [
    "datatable = r.json()\n",
    "# r.json()"
   ]
  },
  {
   "cell_type": "code",
   "execution_count": 202,
   "id": "358004b3-ca38-4085-8f4e-18372a8d3f47",
   "metadata": {},
   "outputs": [
    {
     "data": {
      "text/plain": [
       "dict_keys(['dataset'])"
      ]
     },
     "execution_count": 202,
     "metadata": {},
     "output_type": "execute_result"
    }
   ],
   "source": [
    "datatable.keys()"
   ]
  },
  {
   "cell_type": "code",
   "execution_count": 203,
   "id": "cf2fb6a0-8d22-4022-8ba3-86eaddb53fa2",
   "metadata": {},
   "outputs": [
    {
     "data": {
      "text/plain": [
       "dict_keys(['dataset'])"
      ]
     },
     "execution_count": 203,
     "metadata": {},
     "output_type": "execute_result"
    }
   ],
   "source": [
    "datatable.keys()\n",
    "# datatable['datatable']"
   ]
  },
  {
   "cell_type": "code",
   "execution_count": 204,
   "id": "55798198-4cb2-4076-b7bb-9b57cd349724",
   "metadata": {},
   "outputs": [],
   "source": [
    "# datatable['dataset']\n"
   ]
  },
  {
   "cell_type": "code",
   "execution_count": 205,
   "id": "9b1f20bb-e4d7-4861-9706-30048845b3e4",
   "metadata": {},
   "outputs": [
    {
     "name": "stdout",
     "output_type": "stream",
     "text": [
      "Date\n",
      "Open\n",
      "High\n",
      "Low\n",
      "Close\n",
      "Change\n",
      "Traded Volume\n",
      "Turnover\n",
      "Last Price of the Day\n",
      "Daily Traded Units\n",
      "Daily Turnover\n"
     ]
    }
   ],
   "source": [
    "\n",
    "colNames = datatable['dataset']['column_names']\n",
    "for n in colNames:\n",
    "    print(n)\n",
    "\n",
    "\n",
    "\n",
    "        "
   ]
  },
  {
   "cell_type": "code",
   "execution_count": 206,
   "id": "b689217f-9775-4a48-9dd6-68cb541bc162",
   "metadata": {},
   "outputs": [
    {
     "name": "stdout",
     "output_type": "stream",
     "text": [
      "high: 53.54\n",
      "low: 33.62\n"
     ]
    }
   ],
   "source": [
    "#Calculate highest and lowest opening prices were for the stock for this period.\n",
    "high = 0\n",
    "low = 999\n",
    "\n",
    "for x in datatable['dataset']['data']:\n",
    "    if x[2] > high:\n",
    "        high = x[2]\n",
    "    if x[3] < low:\n",
    "        low = x[3]\n",
    "        \n",
    "print(\"high: \" + str(high))\n",
    "print(\"low: \" + str(low))\n",
    "# print(low)"
   ]
  },
  {
   "cell_type": "code",
   "execution_count": 207,
   "id": "bce1b3d0-5671-44dd-8bb4-c55c9d93499d",
   "metadata": {},
   "outputs": [
    {
     "name": "stdout",
     "output_type": "stream",
     "text": [
      "Largest Change: 2.8100000000000023\n"
     ]
    }
   ],
   "source": [
    "#Calculate the largest change in any one day (based on High and Low price)\n",
    "largestChange = 0\n",
    "\n",
    "\n",
    "for x in datatable['dataset']['data']:\n",
    "    change = x[2] - x[3]\n",
    "    if (change > largestChange):\n",
    "        largestChange = change\n",
    "        \n",
    "print(\"Largest Change: \" + str(largestChange))\n",
    "\n"
   ]
  },
  {
   "cell_type": "code",
   "execution_count": 208,
   "id": "359fbffc-376f-4dcf-b494-a741386a837a",
   "metadata": {},
   "outputs": [],
   "source": [
    "#Calculate the largest change between any two days (based on Closing Price) "
   ]
  },
  {
   "cell_type": "code",
   "execution_count": 209,
   "id": "de26fb2d-a55f-42f6-9dc4-36b7b1eea0f0",
   "metadata": {},
   "outputs": [
    {
     "name": "stdout",
     "output_type": "stream",
     "text": [
      "Largest change betwween two days: 17.699999999999996\n"
     ]
    }
   ],
   "source": [
    "largestClose = 0\n",
    "prevClose = -1\n",
    "for x in datatable['dataset']['data']:\n",
    "    close = x[4]\n",
    "    if (prevClose == -1):\n",
    "        prevClose = close\n",
    "    tempClose = abs(close - prevClose)\n",
    "    if (tempClose > largestClose):\n",
    "        largestClose = tempClose\n",
    "        \n",
    "print(\"Largest change betwween two days: \" + str(largestClose))"
   ]
  },
  {
   "cell_type": "code",
   "execution_count": 210,
   "id": "6ce1dbb1-a1f0-4fec-b2b0-2747775a71cb",
   "metadata": {},
   "outputs": [],
   "source": [
    "#What was the average daily trading volume during this year"
   ]
  },
  {
   "cell_type": "code",
   "execution_count": 212,
   "id": "1e85d839-73a7-498e-af1c-fddcc6545783",
   "metadata": {},
   "outputs": [
    {
     "name": "stdout",
     "output_type": "stream",
     "text": [
      "Average trading volume: 89124.33725490196\n"
     ]
    }
   ],
   "source": [
    "total = 0\n",
    "count = 0\n",
    "\n",
    "for x in datatable['dataset']['data']:\n",
    "    total += x[6]\n",
    "    count += 1    \n",
    "\n",
    "\n",
    "print(\"Average trading volume: \" + str(total/count))\n",
    "\n"
   ]
  },
  {
   "cell_type": "code",
   "execution_count": null,
   "id": "65e6d021-5677-41f8-81e2-ff7a8b9550d8",
   "metadata": {},
   "outputs": [],
   "source": [
    "# (Optional) What was the median trading volume during this year?"
   ]
  },
  {
   "cell_type": "code",
   "execution_count": 225,
   "id": "f5eec3c4-1e62-48e6-90eb-faa659ba4d72",
   "metadata": {},
   "outputs": [
    {
     "name": "stdout",
     "output_type": "stream",
     "text": [
      "Median: 76600.0\n"
     ]
    }
   ],
   "source": [
    "tempArray = []\n",
    "for x in datatable['dataset']['data']:\n",
    "    tempArray.append(x[6])\n",
    "# tempArray\n",
    "tempArray.sort()\n",
    "length = len(tempArray)\n",
    "#if even average middle two values\n",
    "if ((length % 2) == 0):\n",
    "    median = (tempArray[length/2] + tempArray[(length/2)-1]) / 2\n",
    "else:\n",
    "    median = tempArray[int((length+1)/2)]\n",
    "print(\"Median: \" + str(median))"
   ]
  },
  {
   "cell_type": "code",
   "execution_count": null,
   "id": "1865e585-6a89-427b-83af-d0b713bdb540",
   "metadata": {},
   "outputs": [],
   "source": []
  }
 ],
 "metadata": {
  "kernelspec": {
   "display_name": "Python (MEC Mini-Projects)",
   "language": "python",
   "name": "mec-miniprojects"
  },
  "language_info": {
   "codemirror_mode": {
    "name": "ipython",
    "version": 3
   },
   "file_extension": ".py",
   "mimetype": "text/x-python",
   "name": "python",
   "nbconvert_exporter": "python",
   "pygments_lexer": "ipython3",
   "version": "3.7.13"
  }
 },
 "nbformat": 4,
 "nbformat_minor": 5
}
